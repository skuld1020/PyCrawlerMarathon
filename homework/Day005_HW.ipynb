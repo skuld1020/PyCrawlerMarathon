{
 "cells": [
  {
   "cell_type": "markdown",
   "metadata": {},
   "source": [
    "### 請利用 API: https://www.dcard.tw/_api/forums/pet/posts?popular=true 回答下列問題：\n",
    "\n",
    "* 1. 這個 API 一次會回傳幾筆資料？每一筆資料包含哪些欄位？\n",
    "\n",
    "* 2. 取出每一筆資料的「標題」、「貼文時間」、「留言人數」、「按讚人數」\n",
    "\n",
    "* 3. 計算熱門/非熱門文章的「平均留言人數」與「平均按讚人數」"
   ]
  },
  {
   "cell_type": "code",
   "execution_count": 18,
   "metadata": {},
   "outputs": [
    {
     "name": "stdout",
     "output_type": "stream",
     "text": [
      "1.這個API回傳 30 資料\n",
      "每筆資料有：\n",
      "id\n",
      "title\n",
      "excerpt\n",
      "anonymousSchool\n",
      "anonymousDepartment\n",
      "pinned\n",
      "forumId\n",
      "replyId\n",
      "createdAt\n",
      "updatedAt\n",
      "commentCount\n",
      "likeCount\n",
      "withNickname\n",
      "tags\n",
      "topics\n",
      "meta\n",
      "forumName\n",
      "forumAlias\n",
      "nsfw\n",
      "gender\n",
      "school\n",
      "replyTitle\n",
      "mediaMeta\n",
      "reactions\n",
      "hidden\n",
      "customStyle\n",
      "isSuspiciousAccount\n",
      "layout\n",
      "withImages\n",
      "withVideos\n",
      "media\n",
      "reportReasonText\n",
      "postAvatar\n"
     ]
    }
   ],
   "source": [
    "import requests\n",
    "import json\n",
    "\n",
    "r = requests.get('https://www.dcard.tw/_api/forums/pet/posts?popular=true')\n",
    "res = r.text\n",
    "\n",
    "data = json.loads(res)\n",
    "\n",
    "#回傳資料筆數\n",
    "print('1.這個API回傳',len(data),'資料')\n",
    "\n",
    "print('每筆資料有：')\n",
    "#每一筆資料欄位\n",
    "for k,v in data[0].items():\n",
    "    print(k)"
   ]
  },
  {
   "cell_type": "code",
   "execution_count": 32,
   "metadata": {},
   "outputs": [
    {
     "name": "stdout",
     "output_type": "stream",
     "text": [
      "標題： 各位，菜市場買的鴨仔蛋就是這麼可愛 貼文時間： 2020-06-17T12:54:01.531Z 留言人數： 354 按讚人數： 12695\n",
      "標題： 看幾次都看不膩😍😍 貼文時間： 2020-06-18T00:37:06.508Z 留言人數： 40 按讚人數： 497\n",
      "標題： 鴨鴨養成計畫🐣🦆 貼文時間： 2020-06-18T08:39:01.100Z 留言人數： 43 按讚人數： 362\n",
      "標題： 高雄 無良寵物殯葬業者 貼文時間： 2020-06-17T12:03:12.578Z 留言人數： 37 按讚人數： 325\n",
      "標題： 就像是一切都計畫好 貼文時間： 2020-06-17T13:07:09.103Z 留言人數： 18 按讚人數： 286\n",
      "標題： 您失戀了嗎 貼文時間： 2020-06-17T13:53:00.315Z 留言人數： 4 按讚人數： 158\n",
      "標題： 當狗狗看到小鴨鴨 貼文時間： 2020-06-18T09:10:39.469Z 留言人數： 15 按讚人數： 118\n",
      "標題： 主子們要注意狗狗抓眼睛的動作！！ 貼文時間： 2020-06-18T08:58:37.695Z 留言人數： 3 按讚人數： 62\n",
      "標題： 有沒有家裡貓也愛關電風扇 說她一句他就直接躺下給我一個眼神的？ 貼文時間： 2020-06-17T11:52:38.672Z 留言人數： 9 按讚人數： 56\n",
      "標題： 橘白貓認養 貼文時間： 2020-06-17T12:53:04.051Z 留言人數： 10 按讚人數： 53\n",
      "標題： 該怎麼救這隻貓貓(ಥ_ಥ) 貼文時間： 2020-06-18T08:58:23.034Z 留言人數： 16 按讚人數： 51\n",
      "標題： 下班後回到家的感覺總是讓我感到... 貼文時間： 2020-06-17T15:37:05.017Z 留言人數： 2 按讚人數： 50\n",
      "標題： 有沒有覺得狗狗有時候很像人 貼文時間： 2020-06-18T09:29:00.274Z 留言人數： 6 按讚人數： 41\n",
      "標題： 我就只是要曬貓 貼文時間： 2020-06-18T09:04:37.622Z 留言人數： 6 按讚人數： 38\n",
      "標題： 家有動物園(๑>ᴗ<๑)（圖多） 貼文時間： 2020-06-17T13:29:26.972Z 留言人數： 8 按讚人數： 37\n",
      "標題： 橘貓都是胖子🐈 貼文時間： 2020-06-17T16:15:27.418Z 留言人數： 11 按讚人數： 31\n",
      "標題： 才喝一瓶就不醒人事了🤭 貼文時間： 2020-06-17T15:18:15.217Z 留言人數： 10 按讚人數： 30\n",
      "標題： 請問這是什麼品種？🙏 貼文時間： 2020-06-18T12:19:27.197Z 留言人數： 16 按讚人數： 29\n",
      "標題： 走過路過不要錯過！！！沒什麼就想讓你們看看什麼是驚喜包，越養越走樣😹😹， 貼文時間： 2020-06-18T11:31:02.946Z 留言人數： 4 按讚人數： 26\n",
      "標題： 憂鬱貓生 貼文時間： 2020-06-17T10:33:45.462Z 留言人數： 1 按讚人數： 24\n",
      "標題： 怎麼樣的貓舍才是正規的？ （上篇) 貼文時間： 2020-06-17T19:10:33.822Z 留言人數： 9 按讚人數： 16\n",
      "標題： 深坑小貓送養（需有經濟能力） 貼文時間： 2020-06-17T11:36:10.722Z 留言人數： 3 按讚人數： 16\n",
      "標題： 狗狗走失協尋 請各位幫忙分享!!! 貼文時間： 2020-06-17T10:00:03.227Z 留言人數： 3 按讚人數： 15\n",
      "標題： 急📣協尋！狗狗在淡水老街被撞傷，走失。 貼文時間： 2020-06-17T16:04:36.757Z 留言人數： 2 按讚人數： 11\n",
      "標題： 領養代替購買？ 貼文時間： 2020-06-17T17:41:02.106Z 留言人數： 12 按讚人數： 9\n",
      "標題： 狗狗不見了 尋狗 貼文時間： 2020-06-17T13:30:34.760Z 留言人數： 3 按讚人數： 9\n",
      "標題： 請各位大大給我建議 貼文時間： 2020-06-17T13:20:34.305Z 留言人數： 6 按讚人數： 8\n",
      "標題： 亞大吉祥貓 圈圈 #橘貓🐱 貼文時間： 2020-06-18T05:33:00.014Z 留言人數： 1 按讚人數： 7\n",
      "標題： 台南走失狗狗 貼文時間： 2020-06-18T03:56:18.932Z 留言人數： 0 按讚人數： 7\n",
      "標題： 夕陽與喵喵 貼文時間： 2020-06-17T11:09:08.207Z 留言人數： 1 按讚人數： 7\n"
     ]
    }
   ],
   "source": [
    "#取出每一筆資料的「標題」、「貼文時間」、「留言人數」、「按讚人數」\n",
    "\n",
    "import requests\n",
    "import json\n",
    "\n",
    "r = requests.get('https://www.dcard.tw/_api/forums/pet/posts?popular=true')\n",
    "res = r.text\n",
    "\n",
    "data = json.loads(res)\n",
    "\n",
    "for i in data:\n",
    "    print('標題：',i['title'],'貼文時間：',i['createdAt'],'留言人數：', i['commentCount'],'按讚人數：',i['likeCount'])"
   ]
  },
  {
   "cell_type": "code",
   "execution_count": 38,
   "metadata": {},
   "outputs": [
    {
     "name": "stdout",
     "output_type": "stream",
     "text": [
      "熱門文章平均留言人數： 21\n",
      "熱門文章按讚人數： 503\n",
      "非熱門文章平均留言人數： 4\n",
      "非熱門文章按讚人數： 25\n"
     ]
    }
   ],
   "source": [
    "#計算熱門/非熱門文章的「平均留言人數」與「平均按讚人數」\n",
    "\n",
    "import requests\n",
    "import json\n",
    "\n",
    "r = requests.get('https://www.dcard.tw/_api/forums/pet/posts?popular=true')\n",
    "res = r.text\n",
    "\n",
    "data = json.loads(res)\n",
    "totalpupcom = 0\n",
    "totalpuplike = 0\n",
    "\n",
    "for i in data:\n",
    "    a = i['commentCount']\n",
    "    b = i['likeCount']\n",
    "    totalpupcom +=a\n",
    "    totalpuplike +=b\n",
    "\n",
    "print('熱門文章平均留言人數：',totalpupcom//len(data))\n",
    "print('熱門文章按讚人數：',totalpuplike//len(data))\n",
    "\n",
    "\n",
    "nr = requests.get('https://www.dcard.tw/_api/forums/pet/posts?popular=false')\n",
    "nres = nr.text\n",
    "\n",
    "ndata = json.loads(nres)\n",
    "totalnopupcom = 0\n",
    "totalnopuplike = 0\n",
    "\n",
    "for i in ndata:\n",
    "    c = i['commentCount']\n",
    "    d = i['likeCount']\n",
    "    totalnopupcom +=c\n",
    "    totalnopuplike +=d\n",
    "\n",
    "print('非熱門文章平均留言人數：',totalnopupcom//len(data))\n",
    "print('非熱門文章按讚人數：',totalnopuplike//len(data))\n"
   ]
  },
  {
   "cell_type": "code",
   "execution_count": null,
   "metadata": {},
   "outputs": [],
   "source": []
  }
 ],
 "metadata": {
  "kernelspec": {
   "display_name": "Python 3",
   "language": "python",
   "name": "python3"
  },
  "language_info": {
   "codemirror_mode": {
    "name": "ipython",
    "version": 3
   },
   "file_extension": ".py",
   "mimetype": "text/x-python",
   "name": "python",
   "nbconvert_exporter": "python",
   "pygments_lexer": "ipython3",
   "version": "3.7.1"
  }
 },
 "nbformat": 4,
 "nbformat_minor": 4
}
