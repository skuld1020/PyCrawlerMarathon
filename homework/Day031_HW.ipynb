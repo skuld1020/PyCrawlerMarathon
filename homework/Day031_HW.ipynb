{
 "cells": [
  {
   "cell_type": "markdown",
   "metadata": {},
   "source": [
    "### 尋找一個網站是有有進行 Header 檢查的？（Hint: 可以利用有加跟沒有加回傳結果差異做判斷）"
   ]
  },
  {
   "cell_type": "code",
   "execution_count": 14,
   "metadata": {},
   "outputs": [
    {
     "data": {
      "text/plain": [
       "'<html>\\r\\n<head><title>400 Bad Request</title></head>\\r\\n<body bgcolor=\"white\">\\r\\n<center><h1>400 Bad Request</h1></center>\\r\\n<hr><center>openresty</center>\\r\\n</body>\\r\\n</html>\\r\\n'"
      ]
     },
     "execution_count": 14,
     "metadata": {},
     "output_type": "execute_result"
    }
   ],
   "source": [
    "import requests\n",
    "url = 'https://www.zhihu.com/api/v4/questions/55493026/answers'\n",
    "res = requests.get(url)\n",
    "res.encoding = res.apparent_encoding\n",
    "res.text"
   ]
  },
  {
   "cell_type": "code",
   "execution_count": 15,
   "metadata": {},
   "outputs": [
    {
     "data": {
      "text/plain": [
       "'{\"data\":[{\"id\":637938925,\"type\":\"answer\",\"answer_type\":\"normal\",\"question\":{\"type\":\"question\",\"id\":55493026,\"title\":\"你们都是怎么学 Python 的？\",\"question_type\":\"normal\",\"created\":1486390229,\"updated_time\":1582533957,\"url\":\"https://www.zhihu.com/api/v4/questions/55493026\",\"relationship\":{}},\"author\":{\"id\":\"e8c4768eaa41e3749f7e8bc5ac6aa74b\",\"url_token\":\"Lanyuneet\",\"name\":\"Slumbers\",\"avatar_url\":\"https://pic3.zhimg.com/v2-f950cfef511d33500177be90030dcd3d_l.jpg?source=1940ef5c\",\"avatar_url_template\":\"https://pic3.zhimg.com/v2-f950cfef511d33500177be90030dcd3d.jpg?source=1940ef5c\",\"is_org\":false,\"type\":\"people\",\"url\":\"https://www.zhihu.com/api/v4/people/e8c4768eaa41e3749f7e8bc5ac6aa74b\",\"user_type\":\"people\",\"headline\":\"算法工程师\",\"badge\":[],\"badge_v2\":{\"title\":\"\",\"merged_badges\":[],\"detail_badges\":[],\"icon\":\"\",\"night_icon\":\"\"},\"gender\":0,\"is_advertiser\":false,\"is_privacy\":false},\"url\":\"https://www.zhihu.com/api/v4/answers/637938925\",\"is_collapsed\":false,\"created_time\":1554085028,\"updated_time\":1558451618,\"extras\":\"\",\"is_copyable\":true,\"relationship\":{\"upvoted_followees\":[]},\"ad_answer\":null},{\"id\":683070334,\"type\":\"answer\",\"answer_type\":\"normal\",\"question\":{\"type\":\"question\",\"id\":55493026,\"title\":\"你们都是怎么学 Python 的？\",\"question_type\":\"normal\",\"created\":1486390229,\"updated_time\":1582533957,\"url\":\"https://www.zhihu.com/api/v4/questions/55493026\",\"relationship\":{}},\"author\":{\"id\":\"36f69162230003d316d0b8a6d8da20ba\",\"url_token\":\"liang-zi-wei-48\",\"name\":\"量子位\",\"avatar_url\":\"https://pic4.zhimg.com/v2-ca6e7ffc10a0d10edbae635cee82d007_l.jpg?source=1940ef5c\",\"avatar_url_template\":\"https://pic2.zhimg.com/v2-ca6e7ffc10a0d10edbae635cee82d007.jpg?source=1940ef5c\",\"is_org\":true,\"type\":\"people\",\"url\":\"https://www.zhihu.com/api/v4/people/36f69162230003d316d0b8a6d8da20ba\",\"user_type\":\"organization\",\"headline\":\"有趣的AI\\\\u0026amp;前沿科技→_→ 公众号：QbitAI\",\"badge\":[{\"type\":\"identity\",\"description\":\"已认证的官方帐号\",\"topics\":[]},{\"type\":\"best_answerer\",\"description\":\"优秀回答者\",\"topics\":[]}],\"badge_v2\":{\"title\":\"数学等 5 个话题下的优秀回答者\",\"merged_badges\":[{\"type\":\"best\",\"detail_type\":\"best\",\"title\":\"优秀认证\",\"description\":\"数学等 5 个话题下的优秀回答者\",\"url\":\"https://www.zhihu.com/topic/20054793\",\"sources\":[{\"id\":\"19554091\",\"token\":\"19554091\",\"type\":\"topic\",\"url\":\"https://www.zhihu.com/topic/19554091\",\"name\":\"数学\",\"avatar_path\":\"v2-351d57389cf50b002a20606caac645cf\",\"avatar_url\":\"https://pic4.zhimg.com/v2-351d57389cf50b002a20606caac645cf_hd.jpg\",\"description\":\"\",\"priority\":0},{\"id\":\"19556664\",\"token\":\"19556664\",\"type\":\"topic\",\"url\":\"https://www.zhihu.com/topic/19556664\",\"name\":\"科技\",\"avatar_path\":\"6d7dc1d82127396331a952e93fda484e\",\"avatar_url\":\"https://pic4.zhimg.com/6d7dc1d82127396331a952e93fda484e_hd.jpg\",\"description\":\"\",\"priority\":0},{\"id\":\"19556895\",\"token\":\"19556895\",\"type\":\"topic\",\"url\":\"https://www.zhihu.com/topic/19556895\",\"name\":\"科研\",\"avatar_path\":\"v2-f94b3093434c09b4501b056d142025e0\",\"avatar_url\":\"https://pic4.zhimg.com/v2-f94b3093434c09b4501b056d142025e0_hd.jpg\",\"description\":\"\",\"priority\":0},{\"id\":\"19635352\",\"token\":\"19635352\",\"type\":\"topic\",\"url\":\"https://www.zhihu.com/topic/19635352\",\"name\":\"自动驾驶\",\"avatar_path\":\"v2-a4deab1b73004d7c3fda759c7942c53f\",\"avatar_url\":\"https://pic4.zhimg.com/v2-a4deab1b73004d7c3fda759c7942c53f_hd.jpg\",\"description\":\"\",\"priority\":0},{\"id\":\"19551275\",\"token\":\"19551275\",\"type\":\"topic\",\"url\":\"https://www.zhihu.com/topic/19551275\",\"name\":\"人工智能\",\"avatar_path\":\"v2-c41d10d22173d515740c43c70f885705\",\"avatar_url\":\"https://pic3.zhimg.com/v2-c41d10d22173d515740c43c70f885705_hd.jpg\",\"description\":\"\",\"priority\":0}],\"icon\":\"\",\"night_icon\":\"\"},{\"type\":\"identity\",\"detail_type\":\"identity\",\"title\":\"认证\",\"description\":\"已认证的官方帐号\",\"url\":\"https://www.zhihu.com/account/verification/intro\",\"sources\":[],\"icon\":\"\",\"night_icon\":\"\"}],\"detail_badges\":[{\"type\":\"best\",\"detail_type\":\"best_answerer\",\"title\":\"优秀回答者\",\"description\":\"数学等 5 个话题下的优秀回答者\",\"url\":\"https://www.zhihu.com/topic/20054793\",\"sources\":[{\"id\":\"19554091\",\"token\":\"19554091\",\"type\":\"topic\",\"url\":\"https://www.zhihu.com/topic/19554091\",\"name\":\"数学\",\"avatar_path\":\"v2-351d57389cf50b002a20606caac645cf\",\"avatar_url\":\"https://pic4.zhimg.com/v2-351d57389cf50b002a20606caac645cf_hd.jpg\",\"description\":\"\",\"priority\":0},{\"id\":\"19556664\",\"token\":\"19556664\",\"type\":\"topic\",\"url\":\"https://www.zhihu.com/topic/19556664\",\"name\":\"科技\",\"avatar_path\":\"6d7dc1d82127396331a952e93fda484e\",\"avatar_url\":\"https://pic4.zhimg.com/6d7dc1d82127396331a952e93fda484e_hd.jpg\",\"description\":\"\",\"priority\":0},{\"id\":\"19556895\",\"token\":\"19556895\",\"type\":\"topic\",\"url\":\"https://www.zhihu.com/topic/19556895\",\"name\":\"科研\",\"avatar_path\":\"v2-f94b3093434c09b4501b056d142025e0\",\"avatar_url\":\"https://pic4.zhimg.com/v2-f94b3093434c09b4501b056d142025e0_hd.jpg\",\"description\":\"\",\"priority\":0},{\"id\":\"19635352\",\"token\":\"19635352\",\"type\":\"topic\",\"url\":\"https://www.zhihu.com/topic/19635352\",\"name\":\"自动驾驶\",\"avatar_path\":\"v2-a4deab1b73004d7c3fda759c7942c53f\",\"avatar_url\":\"https://pic4.zhimg.com/v2-a4deab1b73004d7c3fda759c7942c53f_hd.jpg\",\"description\":\"\",\"priority\":0},{\"id\":\"19551275\",\"token\":\"19551275\",\"type\":\"topic\",\"url\":\"https://www.zhihu.com/topic/19551275\",\"name\":\"人工智能\",\"avatar_path\":\"v2-c41d10d22173d515740c43c70f885705\",\"avatar_url\":\"https://pic3.zhimg.com/v2-c41d10d22173d515740c43c70f885705_hd.jpg\",\"description\":\"\",\"priority\":0}],\"icon\":\"https://pic4.zhimg.com/v2-bf0eec3c31c8e866c468f60eb296696c_l.png\",\"night_icon\":\"https://pic3.zhimg.com/v2-c724649168d8f9d36d7c3d13140a2594_l.png\"},{\"type\":\"identity\",\"detail_type\":\"identity_org\",\"title\":\"已认证的官方帐号\",\"description\":\"已认证的官方帐号\",\"url\":\"https://www.zhihu.com/account/verification/intro\",\"sources\":[],\"icon\":\"https://pic4.zhimg.com/v2-235258cecb8a0f184c4d38483cd6f6b6_l.png\",\"night_icon\":\"https://pic4.zhimg.com/v2-45e870b8f0982bcd7537ea4627afbd00_l.png\"}],\"icon\":\"https://pic4.zhimg.com/v2-7a1a13d7531f29551f79278e9391b8ee_l.png\",\"night_icon\":\"https://pic3.zhimg.com/v2-af71f641951fd5f8b4a7d305288693df_l.png\"},\"gender\":-1,\"is_advertiser\":false,\"is_privacy\":false},\"url\":\"https://www.zhihu.com/api/v4/answers/683070334\",\"is_collapsed\":false,\"created_time\":1557824412,\"updated_time\":1557824412,\"extras\":\"\",\"is_copyable\":true,\"relationship\":{\"upvoted_followees\":[]},\"ad_answer\":null},{\"id\":1106818911,\"type\":\"answer\",\"answer_type\":\"paid\",\"question\":{\"type\":\"question\",\"id\":55493026,\"title\":\"你们都是怎么学 Python 的？\",\"question_type\":\"normal\",\"created\":1486390229,\"updated_time\":1582533957,\"url\":\"https://www.zhihu.com/api/v4/questions/55493026\",\"relationship\":{}},\"author\":{\"id\":\"1ab00059f301920f1dae9d92386937e6\",\"url_token\":\"zhi-hu-ke-tang\",\"name\":\"知乎课堂\",\"avatar_url\":\"https://pic3.zhimg.com/v2-e1b963abfa4c07d04d7b66bc482b1094_l.jpg?source=1940ef5c\",\"avatar_url_template\":\"https://pic3.zhimg.com/v2-e1b963abfa4c07d04d7b66bc482b1094.jpg?source=1940ef5c\",\"is_org\":true,\"type\":\"people\",\"url\":\"https://www.zhihu.com/api/v4/people/1ab00059f301920f1dae9d92386937e6\",\"user_type\":\"organization\",\"headline\":\"欢迎关注公众号：知乎职场圈，每天解锁一个新技能。\",\"badge\":[{\"type\":\"identity\",\"description\":\"已认证的官方帐号\",\"topics\":[]}],\"badge_v2\":{\"title\":\"已认证的官方帐号\",\"merged_badges\":[{\"type\":\"identity\",\"detail_type\":\"identity\",\"title\":\"认证\",\"description\":\"已认证的官方帐号\",\"url\":\"https://www.zhihu.com/account/verification/intro\",\"sources\":[],\"icon\":\"\",\"night_icon\":\"\"}],\"detail_badges\":[{\"type\":\"identity\",\"detail_type\":\"identity_org\",\"title\":\"已认证的官方帐号\",\"description\":\"已认证的官方帐号\",\"url\":\"https://www.zhihu.com/account/verification/intro\",\"sources\":[],\"icon\":\"https://pic1.zhimg.com/v2-235258cecb8a0f184c4d38483cd6f6b6_l.png\",\"night_icon\":\"https://pic2.zhimg.com/v2-45e870b8f0982bcd7537ea4627afbd00_l.png\"}],\"icon\":\"https://pic1.zhimg.com/v2-235258cecb8a0f184c4d38483cd6f6b6_l.png\",\"night_icon\":\"https://pic3.zhimg.com/v2-45e870b8f0982bcd7537ea4627afbd00_l.png\"},\"gender\":-1,\"is_advertiser\":true,\"is_privacy\":false},\"url\":\"https://www.zhihu.com/api/v4/answers/1106818911\",\"is_collapsed\":false,\"created_time\":1585227854,\"updated_time\":1585227854,\"extras\":\"\",\"is_copyable\":false,\"relationship\":{\"upvoted_followees\":[]},\"ad_answer\":null},{\"id\":163537026,\"type\":\"answer\",\"answer_type\":\"normal\",\"question\":{\"type\":\"question\",\"id\":55493026,\"title\":\"你们都是怎么学 Python 的？\",\"question_type\":\"normal\",\"created\":1486390229,\"updated_time\":1582533957,\"url\":\"https://www.zhihu.com/api/v4/questions/55493026\",\"relationship\":{}},\"author\":{\"id\":\"eaf435b228ce0b038a4afe8203f59b49\",\"url_token\":\"sgai\",\"name\":\"路人甲\",\"avatar_url\":\"https://pic1.zhimg.com/958a18f3216805bed269d158fb83325a_l.jpg?source=1940ef5c\",\"avatar_url_template\":\"https://pic1.zhimg.com/958a18f3216805bed269d158fb83325a.jpg?source=1940ef5c\",\"is_org\":false,\"type\":\"people\",\"url\":\"https://www.zhihu.com/api/v4/people/eaf435b228ce0b038a4afe8203f59b49\",\"user_type\":\"people\",\"headline\":\"微信公众号：路人甲TM，微信：904727147\",\"badge\":[],\"badge_v2\":{\"title\":\"\",\"merged_badges\":[],\"detail_badges\":[],\"icon\":\"\",\"night_icon\":\"\"},\"gender\":1,\"is_advertiser\":false,\"is_privacy\":false},\"url\":\"https://www.zhihu.com/api/v4/answers/163537026\",\"is_collapsed\":false,\"created_time\":1493693113,\"updated_time\":1579138388,\"extras\":\"\",\"is_copyable\":true,\"relationship\":{\"upvoted_followees\":[]},\"ad_answer\":null},{\"id\":873825546,\"type\":\"answer\",\"answer_type\":\"normal\",\"question\":{\"type\":\"question\",\"id\":55493026,\"title\":\"你们都是怎么学 Python 的？\",\"question_type\":\"normal\",\"created\":1486390229,\"updated_time\":1582533957,\"url\":\"https://www.zhihu.com/api/v4/questions/55493026\",\"relationship\":{}},\"author\":{\"id\":\"4d1c2c77bc7431c2a6006d154198e8b9\",\"url_token\":\"ji-de-yao-xing-fu\",\"name\":\"痴海\",\"avatar_url\":\"https://pic3.zhimg.com/v2-e8b4f9dff1e3c3170185584c925d388a_l.jpg?source=1940ef5c\",\"avatar_url_template\":\"https://pic2.zhimg.com/v2-e8b4f9dff1e3c3170185584c925d388a.jpg?source=1940ef5c\",\"is_org\":false,\"type\":\"people\",\"url\":\"https://www.zhihu.com/api/v4/people/4d1c2c77bc7431c2a6006d154198e8b9\",\"user_type\":\"people\",\"headline\":\"公众号痴海：每周一篇干货文\",\"badge\":[],\"badge_v2\":{\"title\":\"\",\"merged_badges\":[],\"detail_badges\":[],\"icon\":\"\",\"night_icon\":\"\"},\"gender\":1,\"is_advertiser\":false,\"is_privacy\":false},\"url\":\"https://www.zhihu.com/api/v4/answers/873825546\",\"is_collapsed\":false,\"created_time\":1572318426,\"updated_time\":1587220473,\"extras\":\"\",\"is_copyable\":false,\"relationship\":{\"upvoted_followees\":[]},\"ad_answer\":null}],\"paging\":{\"is_end\":false,\"is_start\":true,\"next\":\"https://www.zhihu.com/api/v4/questions/55493026/answers?limit=5\\\\u0026offset=5\",\"previous\":\"https://www.zhihu.com/api/v4/questions/55493026/answers?limit=5\\\\u0026offset=0\",\"totals\":616}}\\n'"
      ]
     },
     "execution_count": 15,
     "metadata": {},
     "output_type": "execute_result"
    }
   ],
   "source": [
    "import requests\n",
    "\n",
    "headers = {'user-agent':'Mozilla/5.0 (Linux; Android 6.0; Nexus 5 Build/MRA58N) \\\n",
    "            AppleWebKit/537.36 (KHTML, like Gecko) Chrome/83.0.4103.106 Mobile Safari/537.36'}\n",
    "\n",
    "r = requests.get('https://www.zhihu.com/api/v4/questions/55493026/answers',headers = headers)\n",
    "r.encoding = r.apparent_encoding\n",
    "r.text"
   ]
  },
  {
   "cell_type": "markdown",
   "metadata": {},
   "source": [
    "### 用上述網站說明該如何判斷 Header 中必須加上哪些資料才會正確"
   ]
  },
  {
   "cell_type": "markdown",
   "metadata": {},
   "source": [
    "僅需要user-agent即可"
   ]
  },
  {
   "cell_type": "code",
   "execution_count": null,
   "metadata": {},
   "outputs": [],
   "source": []
  }
 ],
 "metadata": {
  "kernelspec": {
   "display_name": "Python 3",
   "language": "python",
   "name": "python3"
  },
  "language_info": {
   "codemirror_mode": {
    "name": "ipython",
    "version": 3
   },
   "file_extension": ".py",
   "mimetype": "text/x-python",
   "name": "python",
   "nbconvert_exporter": "python",
   "pygments_lexer": "ipython3",
   "version": "3.7.1"
  }
 },
 "nbformat": 4,
 "nbformat_minor": 4
}
