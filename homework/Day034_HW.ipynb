{
 "cells": [
  {
   "cell_type": "markdown",
   "metadata": {},
   "source": [
    "### 目前程式中的 proxy_ips 是手動輸入的，\n",
    "### 請根據 https://free-proxy-list.net/ 寫一個可自動化抓取可用 Proxy 的 proxy_ips。"
   ]
  },
  {
   "cell_type": "code",
   "execution_count": 36,
   "metadata": {},
   "outputs": [
    {
     "name": "stdout",
     "output_type": "stream",
     "text": [
      "['176.56.107.110:32439', '45.234.200.18:53281', '80.71.112.101:47181', '93.185.96.61:43749', '175.100.30.156:25', '118.172.51.110:36552', '52.69.19.32:80']\n"
     ]
    }
   ],
   "source": [
    "import requests\n",
    "from bs4 import BeautifulSoup\n",
    "\n",
    "ip_list=[]\n",
    "ip_list_url='https://free-proxy-list.net/'\n",
    "\n",
    "response = requests.get(ip_list_url)\n",
    "ip_soup = BeautifulSoup(response.text,'lxml')\n",
    "\n",
    "for i in range(7):\n",
    "    ip = ip_soup.find('tbody').find_all('tr')[i]\n",
    "    address = ip.find_all('td')[0].text\n",
    "    host = ip.find_all('td')[1].text\n",
    "    ip_list.append(address+':'+host)\n",
    "print(ip_list)"
   ]
  },
  {
   "cell_type": "code",
   "execution_count": 37,
   "metadata": {},
   "outputs": [
    {
     "name": "stdout",
     "output_type": "stream",
     "text": [
      "176.56.107.110:32439 fail\n",
      "45.234.200.18:53281 fail\n",
      "80.71.112.101:47181 fail\n",
      "Your IP address: 93.185.96.61\n",
      "175.100.30.156:25 fail\n",
      "118.172.51.110:36552 fail\n",
      "52.69.19.32:80 fail\n"
     ]
    }
   ],
   "source": [
    "\n",
    "ip_test_url = 'http://ip.filefab.com/index.php'\n",
    "\n",
    "for i in range(7):\n",
    "    ip = ip_list[i]\n",
    "    try:\n",
    "        res = requests.get(ip_test_url,proxies={'http':'http://'+ip},timeout=5)\n",
    "        soup =BeautifulSoup(res.text,'lxml')\n",
    "        print(soup.find('h1',id='ipd').text)\n",
    "    except:\n",
    "        print(ip,'fail')"
   ]
  },
  {
   "cell_type": "code",
   "execution_count": null,
   "metadata": {},
   "outputs": [],
   "source": [
    "\n",
    "\n"
   ]
  },
  {
   "cell_type": "code",
   "execution_count": null,
   "metadata": {},
   "outputs": [],
   "source": []
  },
  {
   "cell_type": "code",
   "execution_count": null,
   "metadata": {},
   "outputs": [],
   "source": []
  }
 ],
 "metadata": {
  "kernelspec": {
   "display_name": "Python 3",
   "language": "python",
   "name": "python3"
  },
  "language_info": {
   "codemirror_mode": {
    "name": "ipython",
    "version": 3
   },
   "file_extension": ".py",
   "mimetype": "text/x-python",
   "name": "python",
   "nbconvert_exporter": "python",
   "pygments_lexer": "ipython3",
   "version": "3.7.1"
  }
 },
 "nbformat": 4,
 "nbformat_minor": 4
}
