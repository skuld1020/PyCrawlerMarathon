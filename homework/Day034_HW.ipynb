{
 "cells": [
  {
   "cell_type": "markdown",
   "metadata": {},
   "source": [
    "### 目前程式中的 proxy_ips 是手動輸入的，\n",
    "### 請根據 https://free-proxy-list.net/ 寫一個可自動化抓取可用 Proxy 的 proxy_ips。"
   ]
  },
  {
   "cell_type": "code",
   "execution_count": 44,
   "metadata": {},
   "outputs": [
    {
     "name": "stdout",
     "output_type": "stream",
     "text": [
      "['64.17.30.238:63141', '183.88.80.226:8213', '84.214.150.146:8080', '194.213.43.166:60530', '156.67.117.68:8080', '178.128.116.82:20921', '118.69.50.154:80', '203.202.245.58:80', '188.244.175.2:8080', '200.73.132.107:8080', '121.121.4.252:80', '103.216.51.209:8191', '203.99.133.17:80', '46.218.155.194:3128', '36.68.42.150:8080', '103.28.161.8:80', '82.200.233.4:3128', '103.52.16.108:80', '36.83.118.203:3128', '27.105.29.219:80', '103.115.14.142:80', '181.143.79.154:48749', '212.156.149.38:53100', '187.111.176.62:8080', '85.187.245.2:53281', '122.248.45.35:53281', '103.76.20.155:54845', '91.193.253.188:23500', '190.152.12.54:41031', '107.178.4.215:35330']\n"
     ]
    }
   ],
   "source": [
    "#先在proxy_list找30筆ip並存在list裡\n",
    "import requests\n",
    "from bs4 import BeautifulSoup\n",
    "\n",
    "ip_list=[]\n",
    "ip_list_url='https://free-proxy-list.net/'\n",
    "\n",
    "response = requests.get(ip_list_url)\n",
    "ip_soup = BeautifulSoup(response.text,'lxml')\n",
    "\n",
    "tr = ip_soup.find('tbody').find_all('tr')[:30]\n",
    "for item in tr:\n",
    "    ip = item.find_all('td')[0].text+':'+item.find_all('td')[1].text\n",
    "    ip_list.append(ip)\n",
    "print(ip_list)"
   ]
  },
  {
   "cell_type": "code",
   "execution_count": 45,
   "metadata": {},
   "outputs": [
    {
     "name": "stdout",
     "output_type": "stream",
     "text": [
      "64.17.30.238:63141 fail\n",
      "183.88.80.226:8213 fail\n",
      "84.214.150.146:8080 fail\n",
      "194.213.43.166:60530 fail\n",
      "156.67.117.68:8080 fail\n",
      "178.128.116.82:20921 fail\n",
      "118.69.50.154:80 fail\n",
      "203.202.245.58:80 fail\n",
      "188.244.175.2:8080 fail\n",
      "Your IP address: 200.73.132.107\n",
      "Your IP address: 121.121.4.249\n",
      "Your IP address: 103.216.51.209\n",
      "Your IP address: 203.99.133.231\n",
      "Your IP address: 46.218.155.194\n",
      "36.68.42.150:8080 fail\n",
      "Your IP address: 103.28.161.8\n",
      "82.200.233.4:3128 fail\n",
      "Your IP address: 122.200.145.196\n",
      "36.83.118.203:3128 fail\n",
      "27.105.29.219:80 fail\n",
      "Your IP address: 103.115.14.1\n",
      "181.143.79.154:48749 fail\n",
      "Your IP address: 212.156.149.38\n",
      "187.111.176.62:8080 fail\n",
      "85.187.245.2:53281 fail\n",
      "122.248.45.35:53281 fail\n",
      "103.76.20.155:54845 fail\n",
      "91.193.253.188:23500 fail\n",
      "190.152.12.54:41031 fail\n",
      "107.178.4.215:35330 fail\n",
      "['200.73.132.107:8080', '121.121.4.252:80', '103.216.51.209:8191', '203.99.133.17:80', '46.218.155.194:3128', '103.28.161.8:80', '103.52.16.108:80', '103.115.14.142:80', '212.156.149.38:53100']\n"
     ]
    }
   ],
   "source": [
    "#檢驗這些ip是否可用\n",
    "\n",
    "ip_test_url = 'http://ip.filefab.com/index.php'\n",
    "availiable_ip=[]\n",
    "\n",
    "for i in range(30):\n",
    "    ip = ip_list[i]\n",
    "    try:\n",
    "        res = requests.get(ip_test_url,proxies={'http': ip, 'https': ip},timeout=5)\n",
    "        soup =BeautifulSoup(res.text,'lxml')\n",
    "        print(soup.find('h1',id='ipd').text)\n",
    "        availiable_ip.append(ip)\n",
    "    except:\n",
    "        print(ip,'fail')\n",
    "print(availiable_ip)"
   ]
  },
  {
   "cell_type": "code",
   "execution_count": 48,
   "metadata": {},
   "outputs": [
    {
     "name": "stdout",
     "output_type": "stream",
     "text": [
      "{\n",
      "  \"origin\": \"46.218.155.194\"\n",
      "}\n",
      "\n"
     ]
    }
   ],
   "source": [
    "# 將前面找出的可用代理伺服器，再發送至 https://httpbin.org/ip 查看是否代理（偷換 IP）成功\n",
    "check_url='https://httpbin.org/ip'\n",
    "for i in availiable_ip:\n",
    "    try:\n",
    "        res = requests.get(check_url,proxies={'http': i, 'https': i},timeout=5)\n",
    "        print(res.text)\n",
    "    except:\n",
    "        pass"
   ]
  },
  {
   "cell_type": "code",
   "execution_count": null,
   "metadata": {},
   "outputs": [],
   "source": []
  },
  {
   "cell_type": "code",
   "execution_count": null,
   "metadata": {},
   "outputs": [],
   "source": []
  }
 ],
 "metadata": {
  "kernelspec": {
   "display_name": "Python 3",
   "language": "python",
   "name": "python3"
  },
  "language_info": {
   "codemirror_mode": {
    "name": "ipython",
    "version": 3
   },
   "file_extension": ".py",
   "mimetype": "text/x-python",
   "name": "python",
   "nbconvert_exporter": "python",
   "pygments_lexer": "ipython3",
   "version": "3.7.1"
  }
 },
 "nbformat": 4,
 "nbformat_minor": 4
}
