{
 "cells": [
  {
   "cell_type": "markdown",
   "metadata": {},
   "source": [
    "簡單測試：<br>\n",
    "若圖片已存在檔案中："
   ]
  },
  {
   "cell_type": "code",
   "execution_count": 6,
   "metadata": {},
   "outputs": [
    {
     "name": "stdout",
     "output_type": "stream",
     "text": [
      "619121\n",
      "\f",
      "\n"
     ]
    }
   ],
   "source": [
    "import pytesseract\n",
    "from PIL import Image\n",
    "\n",
    "path = r'C:\\Program Files (x86)\\Tesseract-OCR\\tesseract.exe'\n",
    "\n",
    "def main():\n",
    "    pytesseract.pytesseract.tesseract_cmd = path\n",
    "    img = Image.open(r'E:\\GitHub\\PyCrawlerMarathon\\homework\\day032-image\\test1.png')\n",
    "    print(pytesseract.image_to_string(img,lang='eng'))\n",
    "\n",
    "if __name__=='__main__':\n",
    "    main()"
   ]
  },
  {
   "cell_type": "markdown",
   "metadata": {},
   "source": [
    "直接給與網路上的圖片連結："
   ]
  },
  {
   "cell_type": "markdown",
   "metadata": {},
   "source": [
    "### IO裡的StringIO & BytesIO\n",
    "* 圖片、影音為二進制檔案\n"
   ]
  },
  {
   "cell_type": "markdown",
   "metadata": {},
   "source": [
    "https://www.liaoxuefeng.com/wiki/1016959663602400/1017609424203904"
   ]
  },
  {
   "cell_type": "code",
   "execution_count": 3,
   "metadata": {},
   "outputs": [
    {
     "data": {
      "image/png": "[encoded data removed]",
      "text/plain": [
       "<PIL.PngImagePlugin.PngImageFile image mode=P size=640x377 at 0x12FBD438>"
      ]
     },
     "execution_count": 3,
     "metadata": {},
     "output_type": "execute_result"
    }
   ],
   "source": [
    "import pytesseract\n",
    "import requests\n",
    "from PIL import Image\n",
    "from io import BytesIO\n",
    "\n",
    "url = 'https://i0.wp.com/www.embhack.com/wp-content/uploads/2018/06/hello-world.png'\n",
    "path = r'C:\\Program Files (x86)\\Tesseract-OCR\\tesseract.exe'\n",
    "\n",
    "res = requests.get(url)\n",
    "img = Image.open(BytesIO(res.content))\n",
    "\n",
    "img\n"
   ]
  },
  {
   "cell_type": "code",
   "execution_count": 4,
   "metadata": {},
   "outputs": [
    {
     "name": "stdout",
     "output_type": "stream",
     "text": [
      "<PIL.PngImagePlugin.PngImageFile image mode=P size=640x377 at 0x12FBD438>\n"
     ]
    }
   ],
   "source": [
    "print(img)"
   ]
  },
  {
   "cell_type": "code",
   "execution_count": 5,
   "metadata": {},
   "outputs": [
    {
     "name": "stdout",
     "output_type": "stream",
     "text": [
      "Hello World-\n",
      "\f",
      "\n"
     ]
    }
   ],
   "source": [
    "pytesseract.pytesseract.tesseract_cmd = path\n",
    "print(pytesseract.image_to_string(img,lang='eng'))"
   ]
  },
  {
   "cell_type": "markdown",
   "metadata": {},
   "source": [
    "先將圖片存在電腦內再去辨識文字："
   ]
  },
  {
   "cell_type": "code",
   "execution_count": 14,
   "metadata": {},
   "outputs": [
    {
     "name": "stdout",
     "output_type": "stream",
     "text": [
      "Hello World-\n",
      "\f",
      "\n"
     ]
    }
   ],
   "source": [
    "import os\n",
    "import requests\n",
    "from PIL import Image\n",
    "import pytesseract\n",
    "from io import BytesIO\n",
    "\n",
    "url = 'https://i0.wp.com/www.embhack.com/wp-content/uploads/2018/06/hello-world.png'\n",
    "path = r'C:\\Program Files (x86)\\Tesseract-OCR\\tesseract.exe'\n",
    "\n",
    "#先確認存檔路徑\n",
    "imagepath=r'E:\\GitHub\\PyCrawlerMarathon\\homework\\day032-image'\n",
    "if not os.path.exists(imagepath):\n",
    "    os.makedirs(imagepath)\n",
    "    \n",
    "with requests.get(url) as r:\n",
    "    r.raise_for_status()\n",
    "    #image = Image.open(r.raw) 會產生錯誤，cannot identify image file <_io.BytesIO object at 0x0000000007F4DCA8>\n",
    "    #顯示為BytesIO物件，要用BytesIO開起\n",
    "    image = Image.open(BytesIO(r.content))\n",
    "    savename = '{dir}\\{id}.{format}'.format(dir=imagepath,id='hello-world1',format='png')\n",
    "    image.save(savename)\n",
    "\n",
    "img0 = Image.open(savename)\n",
    "pytesseract.pytesseract.tesseract_cmd=path\n",
    "print(pytesseract.image_to_string(img0,lang='eng'))\n",
    "\n"
   ]
  },
  {
   "cell_type": "markdown",
   "metadata": {},
   "source": [
    "將電腦內的png檔案轉成jpg\n",
    "* png元素：RGBA (A：透明度)\n",
    "* jpg元素：RGB\n",
    "jpg轉存png OK\n",
    "png轉存jpg 要先把四道轉為三道"
   ]
  },
  {
   "cell_type": "code",
   "execution_count": 26,
   "metadata": {},
   "outputs": [
    {
     "name": "stdout",
     "output_type": "stream",
     "text": [
      "<PIL.Image.Image image mode=RGB size=954x362 at 0x130353C8>\n"
     ]
    }
   ],
   "source": [
    "from PIL import Image\n",
    "imagepath=r'E:\\GitHub\\PyCrawlerMarathon\\homework\\day032-image\\test01.png'\n",
    "im = Image.open(imagepath)\n",
    "#若是jpg轉為png則不需這步\n",
    "im = im.convert('RGB')\n",
    "im.save(r'E:\\GitHub\\PyCrawlerMarathon\\homework\\day032-image\\test01.jpg')\n",
    "print(im)"
   ]
  },
  {
   "cell_type": "markdown",
   "metadata": {},
   "source": [
    "### 作業\n",
    "像 test/test2.png 這種複雜的圖片怎麼辦？"
   ]
  },
  {
   "cell_type": "code",
   "execution_count": 7,
   "metadata": {},
   "outputs": [
    {
     "name": "stdout",
     "output_type": "stream",
     "text": [
      "619121\n",
      "\f",
      "\n"
     ]
    }
   ],
   "source": [
    "import pytesseract\n",
    "from PIL import Image\n",
    "\n",
    "path = r'C:\\Program Files (x86)\\Tesseract-OCR\\tesseract.exe'\n",
    "test1 = r'E:\\GitHub\\PyCrawlerMarathon\\homework\\day032-image\\test1.png'\n",
    "test2 = r'E:\\GitHub\\PyCrawlerMarathon\\homework\\day032-image\\test2.png'\n",
    "\n",
    "pytesseract.pytesseract.tesseract_cmd = path\n",
    "img1 = Image.open(test1)\n",
    "print(pytesseract.image_to_string(img1))\n",
    "\n"
   ]
  },
  {
   "cell_type": "code",
   "execution_count": 8,
   "metadata": {},
   "outputs": [
    {
     "name": "stdout",
     "output_type": "stream",
     "text": [
      "1413\n",
      "\f",
      "\n"
     ]
    }
   ],
   "source": [
    "pytesseract.pytesseract.tesseract_cmd = path\n",
    "img2 = Image.open(test2)\n",
    "print(pytesseract.image_to_string(img2))\n"
   ]
  },
  {
   "cell_type": "markdown",
   "metadata": {},
   "source": [
    "### 降噪處理\n",
    "若圖片干擾過大，可先轉為灰階模式(L)做降噪、銳化處理"
   ]
  },
  {
   "cell_type": "code",
   "execution_count": 2,
   "metadata": {},
   "outputs": [
    {
     "data": {
      "image/png": "[encoded data removed]",
      "text/plain": [
       "<PIL.Image.Image image mode=L size=154x64 at 0x7B5C2E8>"
      ]
     },
     "execution_count": 2,
     "metadata": {},
     "output_type": "execute_result"
    }
   ],
   "source": [
    "import pytesseract\n",
    "from PIL import Image\n",
    "path = r'C:\\Program Files (x86)\\Tesseract-OCR\\tesseract.exe'\n",
    "test2 = r'E:\\GitHub\\PyCrawlerMarathon\\homework\\day032-image\\test2.png'\n",
    "\n",
    "t_img = Image.open(test2).convert('L')\n",
    "t_img"
   ]
  },
  {
   "cell_type": "code",
   "execution_count": 11,
   "metadata": {},
   "outputs": [
    {
     "data": {
      "image/png": "[encoded data removed]",
      "text/plain": [
       "<PIL.Image.Image image mode=L size=154x64 at 0x7B5C2E8>"
      ]
     },
     "execution_count": 11,
     "metadata": {},
     "output_type": "execute_result"
    }
   ],
   "source": [
    "pixels = t_img.load()\n",
    "#灰階數值從0(黑)～255(白)，先定義一個標準值127.5(中間值，可改)\n",
    "standard = 127.5\n",
    "for x in range(t_img.width):\n",
    "    for y in range(t_img.height):\n",
    "        if pixels[x,y]>standard:\n",
    "            pixels[x,y] = 255\n",
    "        else:\n",
    "            pixels[x,y] =0\n",
    "t_img\n",
    "        "
   ]
  },
  {
   "cell_type": "code",
   "execution_count": 12,
   "metadata": {},
   "outputs": [
    {
     "name": "stdout",
     "output_type": "stream",
     "text": [
      "1413\n",
      "\f",
      "\n"
     ]
    }
   ],
   "source": [
    "pytesseract.pytesseract.tesseract_cmd = path\n",
    "print(pytesseract.image_to_string(t_img))"
   ]
  },
  {
   "cell_type": "code",
   "execution_count": null,
   "metadata": {},
   "outputs": [],
   "source": []
  }
 ],
 "metadata": {
  "kernelspec": {
   "display_name": "Python 3",
   "language": "python",
   "name": "python3"
  },
  "language_info": {
   "codemirror_mode": {
    "name": "ipython",
    "version": 3
   },
   "file_extension": ".py",
   "mimetype": "text/x-python",
   "name": "python",
   "nbconvert_exporter": "python",
   "pygments_lexer": "ipython3",
   "version": "3.7.1"
  }
 },
 "nbformat": 4,
 "nbformat_minor": 4
}
