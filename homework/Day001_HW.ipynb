{
 "cells": [
  {
   "cell_type": "markdown",
   "metadata": {},
   "source": [
    "## 1.（簡答題）檔案、API、爬蟲三種取得資料方式有什麼不同？"
   ]
  },
  {
   "cell_type": "markdown",
   "metadata": {},
   "source": [
    "Ans：檔案、API屬於資料擁有者主動給與，提供下載或是接口方便使用者取用。\n",
    "爬蟲則是使用者在網頁上截取自己需要的資料。"
   ]
  },
  {
   "cell_type": "markdown",
   "metadata": {},
   "source": [
    "## 2.（實作）完成一個程式，需滿足下列需求："
   ]
  },
  {
   "cell_type": "markdown",
   "metadata": {},
   "source": [
    "* 「下載指定檔案到 Data 資料夾，存成檔名 Homework.txt」檔案網址：https://www.w3.org/TR/PNG/iso_8859-1.txt 或任一個 .txt 的檔案網址\n",
    "* 檢查 Data 資料夾是否有 Homework.txt 檔名之檔案\n",
    "* 將「Hello World」字串覆寫到 Homework.txt 檔案\n",
    "* 檢查 Homework.txt 檔案字數是否符合 Hello World 字數"
   ]
  },
  {
   "cell_type": "code",
   "execution_count": 4,
   "metadata": {},
   "outputs": [
    {
     "data": {
      "text/plain": [
       "('E:\\\\GitHub\\\\PyCrawlerMarathon\\\\homework\\\\Homework.txt',\n",
       " <http.client.HTTPMessage at 0x77dc828>)"
      ]
     },
     "execution_count": 4,
     "metadata": {},
     "output_type": "execute_result"
    }
   ],
   "source": [
    "from urllib.request import urlretrieve\n",
    "import os\n",
    "\n",
    "#下載檔案\n",
    "\n",
    "urlretrieve('https://www.w3.org/TR/PNG/iso_8859-1.txt','E:\\GitHub\\PyCrawlerMarathon\\homework\\Homework.txt')\n"
   ]
  },
  {
   "cell_type": "code",
   "execution_count": 5,
   "metadata": {},
   "outputs": [
    {
     "name": "stdout",
     "output_type": "stream",
     "text": [
      "檔案存在\n"
     ]
    }
   ],
   "source": [
    "#檢察檔案是否存在\n",
    "\n",
    "filepath = 'E:\\GitHub\\PyCrawlerMarathon\\homework\\Homework.txt'\n",
    "\n",
    "if os.path.isfile(filepath):\n",
    "    print('檔案存在')\n",
    "else:\n",
    "    print('檔案不存在')"
   ]
  },
  {
   "cell_type": "code",
   "execution_count": 6,
   "metadata": {},
   "outputs": [],
   "source": [
    "#開啟檔案覆寫\n",
    "\n",
    "try:\n",
    "    with open(filepath,'w') as fh:\n",
    "        fh.write('Hello World')\n",
    "except:\n",
    "    print('發生錯誤')\n",
    "    pass"
   ]
  },
  {
   "cell_type": "code",
   "execution_count": 9,
   "metadata": {},
   "outputs": [
    {
     "name": "stdout",
     "output_type": "stream",
     "text": [
      "字數符合\n"
     ]
    }
   ],
   "source": [
    "#統計Homework.txt的字數\n",
    "count_txt = 0\n",
    "with open(filepath,'r') as f:\n",
    "    for line in f:\n",
    "        line = line.rstrip()\n",
    "        for i in line:\n",
    "            count_txt +=1\n",
    "        \n",
    "#檢查 Homework.txt 檔案字數是否符合 Hello World 字數\n",
    "word = 'Hello World'\n",
    "\n",
    "if len(word) == count_txt:\n",
    "    print('字數符合')\n",
    "else:\n",
    "    print('字數不符')\n"
   ]
  },
  {
   "cell_type": "code",
   "execution_count": null,
   "metadata": {},
   "outputs": [],
   "source": []
  }
 ],
 "metadata": {
  "kernelspec": {
   "display_name": "Python 3",
   "language": "python",
   "name": "python3"
  },
  "language_info": {
   "codemirror_mode": {
    "name": "ipython",
    "version": 3
   },
   "file_extension": ".py",
   "mimetype": "text/x-python",
   "name": "python",
   "nbconvert_exporter": "python",
   "pygments_lexer": "ipython3",
   "version": "3.7.1"
  }
 },
 "nbformat": 4,
 "nbformat_minor": 4
}
