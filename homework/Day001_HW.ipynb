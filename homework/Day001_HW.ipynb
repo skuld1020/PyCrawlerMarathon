{
 "cells": [
  {
   "cell_type": "markdown",
   "metadata": {},
   "source": [
    "## 1.（簡答題）檔案、API、爬蟲三種取得資料方式有什麼不同？"
   ]
  },
  {
   "cell_type": "markdown",
   "metadata": {},
   "source": [
    "檔案、API屬於資料擁有者主動給與，提供下載或是接口方便使用者取用。\n",
    "爬蟲則是使用者在網頁上截取自己需要的資料。"
   ]
  },
  {
   "cell_type": "markdown",
   "metadata": {},
   "source": [
    "## 2.（實作）完成一個程式，需滿足下列需求："
   ]
  },
  {
   "cell_type": "markdown",
   "metadata": {},
   "source": [
    "* 「下載指定檔案到 Data 資料夾，存成檔名 Homework.txt」檔案網址：https://www.w3.org/TR/PNG/iso_8859-1.txt 或任一個 .txt 的檔案網址\n",
    "* 檢查 Data 資料夾是否有 Homework.txt 檔名之檔案\n",
    "* 將「Hello World」字串覆寫到 Homework.txt 檔案\n",
    "* 檢查 Homework.txt 檔案字數是否符合 Hello World 字數"
   ]
  },
  {
   "cell_type": "code",
   "execution_count": null,
   "metadata": {},
   "outputs": [],
   "source": []
  }
 ],
 "metadata": {
  "kernelspec": {
   "display_name": "Python 3",
   "language": "python",
   "name": "python3"
  },
  "language_info": {
   "codemirror_mode": {
    "name": "ipython",
    "version": 3
   },
   "file_extension": ".py",
   "mimetype": "text/x-python",
   "name": "python",
   "nbconvert_exporter": "python",
   "pygments_lexer": "ipython3",
   "version": "3.7.1"
  }
 },
 "nbformat": 4,
 "nbformat_minor": 4
}
