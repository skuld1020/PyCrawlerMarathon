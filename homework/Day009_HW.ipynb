{
 "cells": [
  {
   "cell_type": "markdown",
   "metadata": {},
   "source": [
    "### 以正確的副檔名下載網頁中的圖片\n",
    "\n",
    "範例網頁:https://www.ptt.cc/bbs/Beauty/M.1556291059.A.75A.html\n",
    "\n",
    "* Note：因為 PTT 會詢問「是否滿 18 歲」，這邊可以用 cookies 繞過\n",
    "* requests.get(URL, cookies={'over18': '1'})"
   ]
  },
  {
   "cell_type": "code",
   "execution_count": 31,
   "metadata": {},
   "outputs": [
    {
     "name": "stdout",
     "output_type": "stream",
     "text": [
      "https://i.imgur.com/Cgb5oo1.jpg\n",
      "已儲存： E:\\GitHub\\PyCrawlerMarathon\\homework\\D009\\Cgb5oo1.jpeg\n",
      "https://i.imgur.com/MgjHY4f.jpg\n",
      "已儲存： E:\\GitHub\\PyCrawlerMarathon\\homework\\D009\\MgjHY4f.jpeg\n",
      "https://i.imgur.com/yeoRtAs.jpg\n",
      "已儲存： E:\\GitHub\\PyCrawlerMarathon\\homework\\D009\\yeoRtAs.jpeg\n",
      "https://i.imgur.com/wsauNEW.jpg\n",
      "已儲存： E:\\GitHub\\PyCrawlerMarathon\\homework\\D009\\wsauNEW.jpeg\n",
      "https://i.imgur.com/IjiETcs.jpg\n",
      "已儲存： E:\\GitHub\\PyCrawlerMarathon\\homework\\D009\\IjiETcs.jpeg\n"
     ]
    }
   ],
   "source": [
    "import os\n",
    "import requests as req\n",
    "from bs4 import BeautifulSoup\n",
    "from PIL import Image\n",
    "\n",
    "url = 'https://www.ptt.cc/bbs/Beauty/M.1556291059.A.75A.html'\n",
    "res = req.get(url,cookies={'over18':'1'})\n",
    "soup = BeautifulSoup(res.text,'html.parser')\n",
    "\n",
    "output_dir = 'E:\\GitHub\\PyCrawlerMarathon\\homework\\D009'\n",
    "#先確認路徑是否有該檔案，若沒有則建立一個\n",
    "if not os.path.exists(output_dir):\n",
    "    os.makedirs(output_dir)\n",
    "\n",
    "#尋找子節點中的網址\n",
    "image_tag = soup.find(id='main-container').findChildren('a')\n",
    "for tag in image_tag:\n",
    "    if 'imgur' not in tag.text:\n",
    "        continue\n",
    "    imageurl = tag.text\n",
    "    \n",
    "    #找到ID並創建圖片網址\n",
    "    image_id = imageurl.split('/')[-1]\n",
    "    img_url = 'https://i.imgur.com/{}.jpg'.format(image_id)\n",
    "    print(img_url)\n",
    "    \n",
    "    #發送圖片網址請求並確認請求是否錯誤\n",
    "    with req.get(img_url,stream=True) as r:\n",
    "        r.raise_for_status()\n",
    "        \n",
    "        #利用PIL開啟圖片檔案(之後動作以img.這個為主，不用再用Image.)\n",
    "        img = Image.open(r.raw)\n",
    "        #寫好儲存路徑、檔名和格式(若格式沒有加上.lower()會是大寫JPEG)\n",
    "        savename = '{dir}\\{id}.{format}'.format(dir = output_dir,id = image_id,format = img.format.lower())\n",
    "        #儲存圖片檔\n",
    "        img.save(savename)\n",
    "        print(u'已儲存：',savename)"
   ]
  },
  {
   "cell_type": "markdown",
   "metadata": {},
   "source": [
    "### raise_for_status() 若發出請求錯誤，會返回4XX(客戶端錯誤) or 5XX(伺服器錯誤)。\n",
    "    回None代表OK。"
   ]
  },
  {
   "cell_type": "code",
   "execution_count": null,
   "metadata": {},
   "outputs": [],
   "source": []
  }
 ],
 "metadata": {
  "kernelspec": {
   "display_name": "Python 3",
   "language": "python",
   "name": "python3"
  },
  "language_info": {
   "codemirror_mode": {
    "name": "ipython",
    "version": 3
   },
   "file_extension": ".py",
   "mimetype": "text/x-python",
   "name": "python",
   "nbconvert_exporter": "python",
   "pygments_lexer": "ipython3",
   "version": "3.7.1"
  }
 },
 "nbformat": 4,
 "nbformat_minor": 4
}
