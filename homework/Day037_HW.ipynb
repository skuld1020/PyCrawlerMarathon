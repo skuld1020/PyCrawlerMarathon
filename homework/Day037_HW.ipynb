{
 "cells": [
  {
   "cell_type": "markdown",
   "metadata": {},
   "source": [
    "### 自動化更新"
   ]
  },
  {
   "cell_type": "markdown",
   "metadata": {},
   "source": [
    "Q：列舉一個是需要用自動化更新的機制來達成的爬蟲應用。"
   ]
  },
  {
   "cell_type": "markdown",
   "metadata": {},
   "source": [
    "Ans：<br>\n",
    "Yahoo首頁上的最新新聞"
   ]
  },
  {
   "cell_type": "markdown",
   "metadata": {},
   "source": [
    "自動化更新：<br>\n",
    "1.使用time裡的sleep (如果作業不複雜的情況下，方便使用) <br>\n",
    "2.使用threading 的 Timer <br>\n",
    "3.使用schedule <br>"
   ]
  },
  {
   "cell_type": "markdown",
   "metadata": {},
   "source": [
    "import schedule  <br>\n",
    "import time  <br>\n",
    "  \n",
    "def job():  <br>\n",
    "    print(\"I'm working...\") <br>  \n",
    "  \n",
    "schedule.every(10).minutes.do(job)   #每隔10分鐘執行一次任務 <br>\n",
    "schedule.every().hour.do(job)   #每隔一小時執行一次任務 <br>\n",
    "schedule.every().day.at(\"10:30\").do(job)   #每天10:30執行一次任務 <br>\n",
    "schedule.every().monday.do(job)   #每週一的這個時候執行一次任務 <br>\n",
    "schedule.every().wednesday.at(\"13:15\").do(job)   #每週三13:15執行一次任務 <br>\n",
    "<br>\n",
    "while True:<br>  \n",
    "    schedule.run_pending()<br>  \n",
    "    time.sleep(1)  <br>"
   ]
  },
  {
   "cell_type": "markdown",
   "metadata": {},
   "source": [
    "### 1.加上sleep"
   ]
  },
  {
   "cell_type": "code",
   "execution_count": 3,
   "metadata": {},
   "outputs": [
    {
     "name": "stdout",
     "output_type": "stream",
     "text": [
      "hello world Tue Oct 20 02:38:22 2020\n",
      "hello world Tue Oct 20 02:38:27 2020\n",
      "hello world Tue Oct 20 02:38:32 2020\n",
      "hello world Tue Oct 20 02:38:37 2020\n",
      "hello world Tue Oct 20 02:38:42 2020\n"
     ]
    },
    {
     "ename": "KeyboardInterrupt",
     "evalue": "",
     "output_type": "error",
     "traceback": [
      "\u001b[1;31m---------------------------------------------------------------------------\u001b[0m",
      "\u001b[1;31mKeyboardInterrupt\u001b[0m                         Traceback (most recent call last)",
      "\u001b[1;32m<ipython-input-3-34c3c837580b>\u001b[0m in \u001b[0;36m<module>\u001b[1;34m\u001b[0m\n\u001b[0;32m      6\u001b[0m \u001b[1;32mwhile\u001b[0m \u001b[1;32mTrue\u001b[0m\u001b[1;33m:\u001b[0m\u001b[1;33m\u001b[0m\u001b[1;33m\u001b[0m\u001b[0m\n\u001b[0;32m      7\u001b[0m     \u001b[0mjob01\u001b[0m\u001b[1;33m(\u001b[0m\u001b[1;33m)\u001b[0m\u001b[1;33m\u001b[0m\u001b[1;33m\u001b[0m\u001b[0m\n\u001b[1;32m----> 8\u001b[1;33m     \u001b[0mtime\u001b[0m\u001b[1;33m.\u001b[0m\u001b[0msleep\u001b[0m\u001b[1;33m(\u001b[0m\u001b[1;36m5\u001b[0m\u001b[1;33m)\u001b[0m\u001b[1;33m\u001b[0m\u001b[1;33m\u001b[0m\u001b[0m\n\u001b[0m",
      "\u001b[1;31mKeyboardInterrupt\u001b[0m: "
     ]
    }
   ],
   "source": [
    "import time\n",
    "\n",
    "def job01():\n",
    "    print('hello world',time.ctime(time.time()))\n",
    "\n",
    "while True:\n",
    "    job01()\n",
    "    time.sleep(5)"
   ]
  },
  {
   "cell_type": "markdown",
   "metadata": {},
   "source": [
    "### 2.threading 的 Timer"
   ]
  },
  {
   "cell_type": "code",
   "execution_count": 13,
   "metadata": {},
   "outputs": [
    {
     "name": "stdout",
     "output_type": "stream",
     "text": [
      "Hello world  1   Tue Oct 20 03:17:47 2020\n",
      "Hello world  2   Tue Oct 20 03:17:49 2020\n",
      "Hello world  3   Tue Oct 20 03:17:51 2020\n",
      "Hello world  4   Tue Oct 20 03:17:53 2020\n",
      "Hello world  5   Tue Oct 20 03:17:55 2020\n"
     ]
    }
   ],
   "source": [
    "from threading import Timer\n",
    "import time\n",
    "\n",
    "def job02(count):\n",
    "    count +=1\n",
    "    if count >5:\n",
    "        return\n",
    "    print('Hello world ',count,' ',time.ctime(time.time()))\n",
    "    t = Timer(2,job02,(count,))\n",
    "    t.start()    \n",
    "\n",
    "count =0\n",
    "job02(count)"
   ]
  },
  {
   "cell_type": "code",
   "execution_count": 14,
   "metadata": {},
   "outputs": [
    {
     "name": "stdout",
     "output_type": "stream",
     "text": [
      "Hello world  1   Tue Oct 20 03:19:01 2020\n",
      "Hello world  2   Tue Oct 20 03:19:01 2020\n",
      "Hello world  3   Tue Oct 20 03:19:01 2020\n",
      "Hello world  4   Tue Oct 20 03:19:01 2020\n",
      "Hello world  5   Tue Oct 20 03:19:01 2020\n"
     ]
    },
    {
     "name": "stderr",
     "output_type": "stream",
     "text": [
      "Exception in thread Thread-28:\n",
      "Traceback (most recent call last):\n",
      "  File \"C:\\Users\\Happy sunday\\Anaconda3\\lib\\threading.py\", line 917, in _bootstrap_inner\n",
      "    self.run()\n",
      "  File \"C:\\Users\\Happy sunday\\Anaconda3\\lib\\threading.py\", line 1158, in run\n",
      "    self.function(*self.args, **self.kwargs)\n",
      "TypeError: 'NoneType' object is not callable\n",
      "Exception in thread Thread-24:\n",
      "Traceback (most recent call last):\n",
      "  File \"C:\\Users\\Happy sunday\\Anaconda3\\lib\\threading.py\", line 917, in _bootstrap_inner\n",
      "    self.run()\n",
      "  File \"C:\\Users\\Happy sunday\\Anaconda3\\lib\\threading.py\", line 1158, in run\n",
      "    self.function(*self.args, **self.kwargs)\n",
      "TypeError: 'NoneType' object is not callable\n",
      "Exception in thread Thread-27:\n",
      "Traceback (most recent call last):\n",
      "  File \"C:\\Users\\Happy sunday\\Anaconda3\\lib\\threading.py\", line 917, in _bootstrap_inner\n",
      "    self.run()\n",
      "  File \"C:\\Users\\Happy sunday\\Anaconda3\\lib\\threading.py\", line 1158, in run\n",
      "    self.function(*self.args, **self.kwargs)\n",
      "TypeError: 'NoneType' object is not callable\n",
      "\n",
      "\n",
      "Exception in thread Thread-26:\n",
      "Traceback (most recent call last):\n",
      "  File \"C:\\Users\\Happy sunday\\Anaconda3\\lib\\threading.py\", line 917, in _bootstrap_inner\n",
      "    self.run()\n",
      "  File \"C:\\Users\\Happy sunday\\Anaconda3\\lib\\threading.py\", line 1158, in run\n",
      "    self.function(*self.args, **self.kwargs)\n",
      "TypeError: 'NoneType' object is not callable\n",
      "\n",
      "\n",
      "Exception in thread Thread-25:\n",
      "Traceback (most recent call last):\n",
      "  File \"C:\\Users\\Happy sunday\\Anaconda3\\lib\\threading.py\", line 917, in _bootstrap_inner\n",
      "    self.run()\n",
      "  File \"C:\\Users\\Happy sunday\\Anaconda3\\lib\\threading.py\", line 1158, in run\n",
      "    self.function(*self.args, **self.kwargs)\n",
      "TypeError: 'NoneType' object is not callable\n",
      "\n"
     ]
    }
   ],
   "source": [
    "# 若是t = Timer(2,job02(count)) 會同時執行五條線\n",
    "from threading import Timer\n",
    "import time\n",
    "\n",
    "def job02(count):\n",
    "    count +=1\n",
    "    if count >5:\n",
    "        return\n",
    "    print('Hello world ',count,' ',time.ctime(time.time()))\n",
    "    t = Timer(2,job02(count))\n",
    "    t.start()    \n",
    "\n",
    "count =0\n",
    "job02(count)"
   ]
  },
  {
   "cell_type": "code",
   "execution_count": 17,
   "metadata": {},
   "outputs": [
    {
     "name": "stdout",
     "output_type": "stream",
     "text": [
      "now is 1603135587.418723 enter_the_box_time is 1603135582.4094367\n",
      "1603135587.4237235\n",
      "now is 1603135592.421009 enter_the_box_time is 1603135582.4104366\n",
      "1603135592.4230094\n"
     ]
    }
   ],
   "source": [
    "import time\n",
    "from threading import Timer\n",
    "def print_time( enter_time ):\n",
    "    print(\"now is\", time.time() , \"enter_the_box_time is\", enter_time)\n",
    "    print(time.time())\n",
    "\n",
    "Timer(5,  print_time, ( time.time(), )).start()\n",
    "Timer(10, print_time, ( time.time(), )).start()\n"
   ]
  },
  {
   "cell_type": "code",
   "execution_count": 19,
   "metadata": {},
   "outputs": [
    {
     "name": "stdout",
     "output_type": "stream",
     "text": [
      "now isnow is 1603135687.3074362 enter_the_box_time is 1603135682.29915\n",
      "1603135687.311437\n",
      " 1603135687.302436 enter_the_box_time is 1603135682.30015\n",
      "1603135687.3124368\n"
     ]
    }
   ],
   "source": [
    "import time\n",
    "from threading import Timer\n",
    "def print_time( enter_time ):\n",
    "    print(\"now is\", time.time() , \"enter_the_box_time is\", enter_time)\n",
    "    print(time.time())\n",
    "\n",
    "Timer(5,  print_time, ( time.time(), )).start()\n",
    "Timer(5, print_time, ( time.time(), )).start()\n",
    "#兩條線同時執行"
   ]
  },
  {
   "cell_type": "markdown",
   "metadata": {},
   "source": [
    "### 3.使用schedule"
   ]
  },
  {
   "cell_type": "markdown",
   "metadata": {},
   "source": [
    "如果你去掉while True这个死循环的话，schedule.run_pending()是没有办法持续运行的，<br>\n",
    "那么schedule.run_pending()是个什么东西呢——<br>\n",
    "schedule其实就只是个定时器。在while True死循环中，schedule.run_pending()是保持schedule一直运行，<br>\n",
    "去查询上面那一堆的任务，在任务中，就可以设置不同的时间去运行。跟linux中设置crontab定时任务是类似的。<br>\n",
    "所以，schedule有一定的局限性，所以只能用来执行一些小型的定时任务，它的局限性在哪呢——<br>\n",
    "1.需要定时运行的函数job不应当是死循环类型的，也就是说，这个线程应该有一个执行完毕的出口。<br>\n",
    "一是因为线程万一僵死，会是非常棘手的问题；二是下一次定时任务还会开启一个新的线程，执行次数多了就会演变成灾难。<br>\n",
    "2.如果schedule的时间间隔设置得比job执行的时间短，一样会线程堆积形成灾难，<br>\n",
    "也就是说，我job的执行时间是1个小时，但是我定时任务设置的是5分钟一次，那就会一直堆积线程。<br>\n",
    "<br>\n",
    "https://blog.csdn.net/liao392781/article/details/80521194"
   ]
  },
  {
   "cell_type": "code",
   "execution_count": null,
   "metadata": {},
   "outputs": [],
   "source": [
    "import schedule\n",
    "import time\n",
    "\n",
    "def job03():\n",
    "    print(time.ctime(time.time()))\n",
    "\n",
    "schedule.every(10).seconds.do(job03)\n",
    "\n",
    "while True:\n",
    "    schedule.run_pending()"
   ]
  },
  {
   "attachments": {
    "image.png": {
     "image/png": "[encoded data removed]"
    }
   },
   "cell_type": "markdown",
   "metadata": {},
   "source": [
    "![image.png](attachment:image.png)"
   ]
  },
  {
   "cell_type": "markdown",
   "metadata": {},
   "source": [
    "下面為每隔10秒定期執行job1和job2，但可以由印出的時間知，<br>\n",
    "兩個job1的時間差為12秒，因為job1中有休眠2秒，job1完成後執行job2，<br>\n",
    "job2完成後再等10秒再執行job1<br>\n",
    "job1→job2→10秒→job1→job2→...."
   ]
  },
  {
   "cell_type": "code",
   "execution_count": 7,
   "metadata": {},
   "outputs": [
    {
     "name": "stdout",
     "output_type": "stream",
     "text": [
      "I'm working for job1\n",
      "job1: 2020-10-18 09:30:22.811254\n",
      "I'm working for job2\n",
      "job2: 2020-10-18 09:30:24.811369\n",
      "I'm working for job1\n",
      "job1: 2020-10-18 09:30:34.811941\n",
      "I'm working for job2\n",
      "job2: 2020-10-18 09:30:37.812112\n",
      "I'm working for job1\n",
      "job1: 2020-10-18 09:30:46.812627\n",
      "I'm working for job2\n",
      "job2: 2020-10-18 09:30:49.813799\n",
      "I'm working for job1\n",
      "job1: 2020-10-18 09:30:58.814314\n",
      "I'm working for job2\n",
      "job2: 2020-10-18 09:31:01.814485\n"
     ]
    },
    {
     "ename": "KeyboardInterrupt",
     "evalue": "",
     "output_type": "error",
     "traceback": [
      "\u001b[1;31m---------------------------------------------------------------------------\u001b[0m",
      "\u001b[1;31mKeyboardInterrupt\u001b[0m                         Traceback (most recent call last)",
      "\u001b[1;32m<ipython-input-7-829c84c53a21>\u001b[0m in \u001b[0;36m<module>\u001b[1;34m\u001b[0m\n\u001b[0;32m     19\u001b[0m \u001b[1;32mwhile\u001b[0m \u001b[1;32mTrue\u001b[0m\u001b[1;33m:\u001b[0m\u001b[1;33m\u001b[0m\u001b[1;33m\u001b[0m\u001b[0m\n\u001b[0;32m     20\u001b[0m     \u001b[0mschedule\u001b[0m\u001b[1;33m.\u001b[0m\u001b[0mrun_pending\u001b[0m\u001b[1;33m(\u001b[0m\u001b[1;33m)\u001b[0m\u001b[1;33m\u001b[0m\u001b[1;33m\u001b[0m\u001b[0m\n\u001b[1;32m---> 21\u001b[1;33m     \u001b[0mtime\u001b[0m\u001b[1;33m.\u001b[0m\u001b[0msleep\u001b[0m\u001b[1;33m(\u001b[0m\u001b[1;36m1\u001b[0m\u001b[1;33m)\u001b[0m\u001b[1;33m\u001b[0m\u001b[1;33m\u001b[0m\u001b[0m\n\u001b[0m",
      "\u001b[1;31mKeyboardInterrupt\u001b[0m: "
     ]
    }
   ],
   "source": [
    "import datetime\n",
    "import schedule\n",
    "import time\n",
    " \n",
    "def job1():\n",
    "    print(\"I'm working for job1\")\n",
    "    time.sleep(2)\n",
    "    print(\"job1:\", datetime.datetime.now())\n",
    "\n",
    "def job2():\n",
    "    print(\"I'm working for job2\")\n",
    "    time.sleep(2)\n",
    "    print(\"job2:\", datetime.datetime.now())\n",
    "\n",
    "def run():\n",
    "    schedule.every(10).seconds.do(job1())\n",
    "    schedule.every(10).seconds.do(job2())\n",
    "\n",
    "while True:\n",
    "    schedule.run_pending()\n",
    "    time.sleep(1)"
   ]
  },
  {
   "cell_type": "markdown",
   "metadata": {},
   "source": [
    "若是要job1執行完畢等待10秒，再次執行job1(不等job2)，可利用線程。"
   ]
  },
  {
   "cell_type": "code",
   "execution_count": 9,
   "metadata": {},
   "outputs": [
    {
     "name": "stdout",
     "output_type": "stream",
     "text": [
      "I'm working for job1\n",
      "job1: 2020-10-18 09:39:07.244250\n",
      "I'm working for job2\n",
      "job2: 2020-10-18 09:39:09.245365\n",
      "I'm working for job1\n",
      "job1: 2020-10-18 09:39:19.245937\n",
      "I'm working for job2\n",
      "job2: 2020-10-18 09:39:22.246108\n",
      "I'm working for job1\n",
      "job1: 2020-10-18 09:39:31.246623\n",
      "I'm working for job2\n",
      "job2: 2020-10-18 09:39:34.246795\n",
      "I'm working for job1\n",
      "job1: 2020-10-18 09:39:43.247309\n",
      "I'm working for job2\n",
      "job2: 2020-10-18 09:39:46.247481\n"
     ]
    },
    {
     "ename": "KeyboardInterrupt",
     "evalue": "",
     "output_type": "error",
     "traceback": [
      "\u001b[1;31m---------------------------------------------------------------------------\u001b[0m",
      "\u001b[1;31mKeyboardInterrupt\u001b[0m                         Traceback (most recent call last)",
      "\u001b[1;32m<ipython-input-9-b7a5e20fbaba>\u001b[0m in \u001b[0;36m<module>\u001b[1;34m\u001b[0m\n\u001b[0;32m     26\u001b[0m \u001b[1;32mwhile\u001b[0m \u001b[1;32mTrue\u001b[0m\u001b[1;33m:\u001b[0m\u001b[1;33m\u001b[0m\u001b[1;33m\u001b[0m\u001b[0m\n\u001b[0;32m     27\u001b[0m     \u001b[0mschedule\u001b[0m\u001b[1;33m.\u001b[0m\u001b[0mrun_pending\u001b[0m\u001b[1;33m(\u001b[0m\u001b[1;33m)\u001b[0m\u001b[1;33m\u001b[0m\u001b[1;33m\u001b[0m\u001b[0m\n\u001b[1;32m---> 28\u001b[1;33m     \u001b[0mtime\u001b[0m\u001b[1;33m.\u001b[0m\u001b[0msleep\u001b[0m\u001b[1;33m(\u001b[0m\u001b[1;36m1\u001b[0m\u001b[1;33m)\u001b[0m\u001b[1;33m\u001b[0m\u001b[1;33m\u001b[0m\u001b[0m\n\u001b[0m",
      "\u001b[1;31mKeyboardInterrupt\u001b[0m: "
     ]
    }
   ],
   "source": [
    "import datetime\n",
    "import schedule\n",
    "import threading\n",
    "import time\n",
    " \n",
    "def job1():\n",
    "    print(\"I'm working for job1\")\n",
    "    time.sleep(2)\n",
    "    print(\"job1:\", datetime.datetime.now())\n",
    "\n",
    "def job2():\n",
    "    print(\"I'm working for job2\")\n",
    "    time.sleep(2)\n",
    "    print(\"job2:\", datetime.datetime.now())\n",
    "\n",
    "def job1_task():\n",
    "    threading.Thread(target=job1).start()\n",
    "\n",
    "def job2_task():\n",
    "    threading.Thread(target=job2).start()\n",
    "\n",
    "def run():\n",
    "    schedule.every(10).seconds.do(job1_task)\n",
    "    schedule.every(10).seconds.do(job2_task)\n",
    "\n",
    "while True:\n",
    "    schedule.run_pending()\n",
    "    time.sleep(1)"
   ]
  },
  {
   "cell_type": "code",
   "execution_count": null,
   "metadata": {},
   "outputs": [],
   "source": []
  }
 ],
 "metadata": {
  "kernelspec": {
   "display_name": "Python 3",
   "language": "python",
   "name": "python3"
  },
  "language_info": {
   "codemirror_mode": {
    "name": "ipython",
    "version": 3
   },
   "file_extension": ".py",
   "mimetype": "text/x-python",
   "name": "python",
   "nbconvert_exporter": "python",
   "pygments_lexer": "ipython3",
   "version": "3.7.1"
  }
 },
 "nbformat": 4,
 "nbformat_minor": 4
}
