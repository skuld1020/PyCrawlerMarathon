{
 "cells": [
  {
   "cell_type": "markdown",
   "metadata": {},
   "source": [
    "### 1.動態網頁跟靜態網頁的差別是什麼？原本靜態網頁的做法會產生什麼問題或是缺點？"
   ]
  },
  {
   "cell_type": "markdown",
   "metadata": {},
   "source": [
    "動態網頁和靜態網頁的差別再於資料庫。<br>\n",
    "靜態網頁一個網頁本身就是一個資料，動態網頁則是在同一個網頁框架下，只從資料庫去擷取想要的內容呈現在網頁上。<br>\n",
    "若是用靜態網頁的話，資料變更要做更新會很麻煩，需要每個網頁都處理。<br>\n",
    "動態網頁的話只要更新資料庫及可。"
   ]
  },
  {
   "cell_type": "markdown",
   "metadata": {},
   "source": [
    "### 2.還記得我們在 ETTODAY 靜態爬蟲實作練習中，有請大家完成一個題目「取出今天所有的發文」，但仔細看其實並沒有真的把當天所有的新聞都抓回來， 試著回答看看原因是什麼？及該如何檢查？"
   ]
  },
  {
   "cell_type": "markdown",
   "metadata": {},
   "source": [
    "因為在爬取時，網頁原始碼只停留在一個頁面(資料固定)，但實際去網站看，往下滑動時資料是不斷更新的，<br>\n",
    "可是原始碼卻沒有更新，所以爬蟲無法爬出所有的文章。"
   ]
  },
  {
   "cell_type": "code",
   "execution_count": null,
   "metadata": {},
   "outputs": [],
   "source": []
  }
 ],
 "metadata": {
  "kernelspec": {
   "display_name": "Python 3",
   "language": "python",
   "name": "python3"
  },
  "language_info": {
   "codemirror_mode": {
    "name": "ipython",
    "version": 3
   },
   "file_extension": ".py",
   "mimetype": "text/x-python",
   "name": "python",
   "nbconvert_exporter": "python",
   "pygments_lexer": "ipython3",
   "version": "3.7.1"
  }
 },
 "nbformat": 4,
 "nbformat_minor": 4
}
