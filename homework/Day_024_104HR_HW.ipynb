{
 "cells": [
  {
   "cell_type": "markdown",
   "metadata": {},
   "source": [
    "目標網址：https://www.104.com.tw/cust/list/index/"
   ]
  },
  {
   "cell_type": "markdown",
   "metadata": {},
   "source": [
    "### 今日練習：從104人力銀行網站爬取求職公司資訊\n",
    "練習定位「下一頁」的按鈕，用Selenium模擬click動作。"
   ]
  },
  {
   "cell_type": "code",
   "execution_count": 6,
   "metadata": {},
   "outputs": [],
   "source": [
    "import time\n",
    "from selenium import webdriver\n",
    "from selenium.webdriver.common.keys import Keys\n",
    "from bs4 import BeautifulSoup\n",
    "import os"
   ]
  },
  {
   "cell_type": "code",
   "execution_count": null,
   "metadata": {},
   "outputs": [],
   "source": [
    "#建立一個名為\"104job\"的資料夾，爬取到的文章內容會放在這個資料夾底下。\n",
    "output_dir = 'E:\\GitHub\\PyCrawlerMarathon\\homework\\104job'\n",
    "#先確認路徑是否有該檔案，若沒有則建立一個\n",
    "if not os.path.exists(output_dir):\n",
    "    os.makedirs(output_dir)\n"
   ]
  },
  {
   "cell_type": "markdown",
   "metadata": {},
   "source": [
    "### 在\"地區\"及\"產業\"下拉式選單中，選擇你希望的選項，然後按下\"找公司\"按鈕。\n",
    "### 開啟新網頁後，觀察新的網址內容，把網址複製下來。"
   ]
  },
  {
   "cell_type": "markdown",
   "metadata": {},
   "source": [
    "網址：https://www.104.com.tw/cust/list/index/?page=1&order=1&mode=s&jobsource=checkc&area=6001001000&indcat=1001001000"
   ]
  },
  {
   "cell_type": "code",
   "execution_count": 14,
   "metadata": {},
   "outputs": [
    {
     "name": "stdout",
     "output_type": "stream",
     "text": [
      "統一集團_安源資訊股份有限公司\n",
      "源壹科技股份有限公司(零壹科技關係企業)\n",
      "海派醬遊有限公司\n",
      "中華數位科技股份有限公司\n",
      "優勢資訊科技股份有限公司\n",
      "易遊網股份有限公司\n",
      "凌通國際有限公司\n",
      "台灣鯊魚科技有限公司\n",
      "數位森林科技股份有限公司\n",
      "普藍地科技股份有限公司\n",
      "衛信科技股份有限公司\n",
      "旭聯科技股份有限公司\n",
      "恆富國際有限公司\n",
      "AltiGen Communications_美商艾力迅科技股份有限公司台灣辦事處\n",
      "博賢智能科技有限公司\n",
      "博訊科技股份有限公司\n",
      "Digital River_美商亞太數位潮流科技有限公司台灣分公司\n",
      "台灣特思爾大宇宙股份有限公司\n",
      "咖喱科技有限公司\n",
      "博威顧問服務股份有限公司\n",
      "巨匠雲科技教育股份有限公司\n",
      "台灣愛歐達股份有限公司\n",
      "日商才望子股份有限公司\n",
      "瑞元資訊股份有限公司\n",
      "楓橡科技股份有限公司\n",
      "全音樂股份有限公司_friDay音樂\n",
      "荷蘭商益華國際電腦科技股份有限公司台灣分公司_Cadence\n",
      "瀚錸科技股份有限公司\n",
      "鉅晶國際股份有限公司\n",
      "Nogle Taiwan Limited_諾傑股份有限公司\n"
     ]
    },
    {
     "ename": "AttributeError",
     "evalue": "'NoneType' object has no attribute 'page_source'",
     "output_type": "error",
     "traceback": [
      "\u001b[1;31m---------------------------------------------------------------------------\u001b[0m",
      "\u001b[1;31mAttributeError\u001b[0m                            Traceback (most recent call last)",
      "\u001b[1;32m<ipython-input-14-6b4056fad4fc>\u001b[0m in \u001b[0;36m<module>\u001b[1;34m\u001b[0m\n\u001b[0;32m     13\u001b[0m \u001b[0mnextpage\u001b[0m \u001b[1;33m=\u001b[0m \u001b[0mbrowser\u001b[0m\u001b[1;33m.\u001b[0m\u001b[0mfind_element_by_link_text\u001b[0m\u001b[1;33m(\u001b[0m\u001b[1;34mu'下一頁'\u001b[0m\u001b[1;33m)\u001b[0m\u001b[1;33m.\u001b[0m\u001b[0mclick\u001b[0m\u001b[1;33m(\u001b[0m\u001b[1;33m)\u001b[0m\u001b[1;33m\u001b[0m\u001b[1;33m\u001b[0m\u001b[0m\n\u001b[0;32m     14\u001b[0m \u001b[1;33m\u001b[0m\u001b[0m\n\u001b[1;32m---> 15\u001b[1;33m \u001b[0mhtml\u001b[0m \u001b[1;33m=\u001b[0m \u001b[0mnextpage\u001b[0m\u001b[1;33m.\u001b[0m\u001b[0mpage_source\u001b[0m\u001b[1;33m\u001b[0m\u001b[1;33m\u001b[0m\u001b[0m\n\u001b[0m\u001b[0;32m     16\u001b[0m \u001b[0msoup\u001b[0m \u001b[1;33m=\u001b[0m \u001b[0mBeautifulSoup\u001b[0m\u001b[1;33m(\u001b[0m\u001b[0mhtml\u001b[0m\u001b[1;33m,\u001b[0m\u001b[1;34m'lxml'\u001b[0m\u001b[1;33m)\u001b[0m\u001b[1;33m\u001b[0m\u001b[1;33m\u001b[0m\u001b[0m\n\u001b[0;32m     17\u001b[0m \u001b[0mcompany\u001b[0m \u001b[1;33m=\u001b[0m \u001b[0msoup\u001b[0m\u001b[1;33m.\u001b[0m\u001b[0mfind\u001b[0m\u001b[1;33m(\u001b[0m\u001b[1;34m'div'\u001b[0m\u001b[1;33m,\u001b[0m\u001b[0mclass_\u001b[0m\u001b[1;33m=\u001b[0m\u001b[1;34m'company-summary'\u001b[0m\u001b[1;33m)\u001b[0m\u001b[1;33m.\u001b[0m\u001b[0mfind_all\u001b[0m\u001b[1;33m(\u001b[0m\u001b[1;34m'article'\u001b[0m\u001b[1;33m,\u001b[0m\u001b[0mclass_\u001b[0m\u001b[1;33m=\u001b[0m\u001b[1;34m'items'\u001b[0m\u001b[1;33m)\u001b[0m\u001b[1;33m\u001b[0m\u001b[1;33m\u001b[0m\u001b[0m\n",
      "\u001b[1;31mAttributeError\u001b[0m: 'NoneType' object has no attribute 'page_source'"
     ]
    }
   ],
   "source": [
    "job_104_url='https://www.104.com.tw/cust/list/index/?page=1&order=1&mode=s&jobsource=checkc&area=6001001000&indcat=1001001000'\n",
    "browser = webdriver.Chrome()\n",
    "browser.get(job_104_url)\n",
    "time.sleep(2)\n",
    "\n",
    "html = browser.page_source\n",
    "soup = BeautifulSoup(html,'lxml')\n",
    "company = soup.find('div',class_='company-summary').find_all('article',class_='items')\n",
    "\n",
    "for i in company:\n",
    "    print(i.find('div',class_='info').find('a').text)\n",
    "\n",
    "nextpage = browser.find_element_by_link_text(u'下一頁').click()\n",
    "\n",
    "html = nextpage.page_source\n",
    "soup = BeautifulSoup(html,'lxml')\n",
    "company = soup.find('div',class_='company-summary').find_all('article',class_='items')\n",
    "\n",
    "for i in company:\n",
    "    print(i.find('div',class_='info').find('a').text)\n",
    "\n",
    "browser.close()"
   ]
  },
  {
   "cell_type": "code",
   "execution_count": null,
   "metadata": {},
   "outputs": [],
   "source": []
  },
  {
   "cell_type": "code",
   "execution_count": null,
   "metadata": {},
   "outputs": [],
   "source": []
  },
  {
   "cell_type": "code",
   "execution_count": null,
   "metadata": {},
   "outputs": [],
   "source": []
  }
 ],
 "metadata": {
  "kernelspec": {
   "display_name": "Python 3",
   "language": "python",
   "name": "python3"
  },
  "language_info": {
   "codemirror_mode": {
    "name": "ipython",
    "version": 3
   },
   "file_extension": ".py",
   "mimetype": "text/x-python",
   "name": "python",
   "nbconvert_exporter": "python",
   "pygments_lexer": "ipython3",
   "version": "3.7.1"
  }
 },
 "nbformat": 4,
 "nbformat_minor": 4
}
