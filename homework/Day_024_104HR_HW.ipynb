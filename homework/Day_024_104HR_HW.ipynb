{
 "cells": [
  {
   "cell_type": "markdown",
   "metadata": {},
   "source": [
    "目標網址：https://www.104.com.tw/cust/list/index/"
   ]
  },
  {
   "cell_type": "markdown",
   "metadata": {},
   "source": [
    "### 今日練習：從104人力銀行網站爬取求職公司資訊\n",
    "練習定位「下一頁」的按鈕，用Selenium模擬click動作。"
   ]
  },
  {
   "cell_type": "code",
   "execution_count": 29,
   "metadata": {},
   "outputs": [],
   "source": [
    "import time\n",
    "from selenium import webdriver\n",
    "from selenium.webdriver.common.keys import Keys\n",
    "from bs4 import BeautifulSoup\n",
    "import os"
   ]
  },
  {
   "cell_type": "code",
   "execution_count": 32,
   "metadata": {},
   "outputs": [],
   "source": [
    "#建立一個名為\"104job\"的資料夾，爬取到的文章內容會放在這個資料夾底下。\n",
    "output_dir = 'E:\\GitHub\\PyCrawlerMarathon\\homework\\\\104job'\n",
    "#先確認路徑是否有該檔案，若沒有則建立一個\n",
    "if not os.path.exists(output_dir):\n",
    "    os.makedirs(output_dir)\n"
   ]
  },
  {
   "cell_type": "markdown",
   "metadata": {},
   "source": [
    "E:\\GitHub\\PyCrawlerMarathon\\homework\\\\104job <br>\n",
    "這裡在/104前多加個'/'是因為'/104'在系統中顯示為D"
   ]
  },
  {
   "cell_type": "markdown",
   "metadata": {},
   "source": [
    "### 在\"地區\"及\"產業\"下拉式選單中，選擇你希望的選項，然後按下\"找公司\"按鈕。\n",
    "### 開啟新網頁後，觀察新的網址內容，把網址複製下來。"
   ]
  },
  {
   "cell_type": "markdown",
   "metadata": {},
   "source": [
    "網址：https://www.104.com.tw/cust/list/index/?page=1&area=6001001000&indcat=1001001005&order=1&mode=s&jobsource=checkc"
   ]
  },
  {
   "cell_type": "code",
   "execution_count": 31,
   "metadata": {},
   "outputs": [
    {
     "name": "stdout",
     "output_type": "stream",
     "text": [
      "結束\n"
     ]
    }
   ],
   "source": [
    "job_104_url='https://www.104.com.tw/cust/list/index/?page=1&area=6001001000&indcat=1001001005&order=1&mode=s&jobsource=checkc'\n",
    "browser = webdriver.Chrome()\n",
    "browser.get(job_104_url)\n",
    "time.sleep(2)\n",
    "\n",
    "while True:\n",
    "    time.sleep(3)\n",
    "    html = browser.page_source\n",
    "    soup = BeautifulSoup(html,'lxml')\n",
    "    company = soup.find('div',class_='company-summary').find_all('article',class_='items')\n",
    "\n",
    "    with open(output_dir+'\\\\104.txt','a+',encoding='utf-8') as fh:\n",
    "        for i in company:\n",
    "            fh.write(i.find('div',class_='info').find('a').text + '\\n')\n",
    "\n",
    "    nextbutton = browser.find_element_by_link_text(u'下一頁')\n",
    "    nextpage_status = nextbutton.get_attribute('class')\n",
    "    if nextpage_status == 'page-next disabled':\n",
    "        print('結束')\n",
    "        break\n",
    "    nextbutton.click()\n",
    "\n",
    "browser.close()"
   ]
  },
  {
   "cell_type": "markdown",
   "metadata": {},
   "source": [
    "### 若是'下一頁'可按，他的class會寫'page-next'\n",
    "### 反之，如果不能按(沒有下一頁)，class會寫'page-next disabled'"
   ]
  },
  {
   "cell_type": "code",
   "execution_count": null,
   "metadata": {},
   "outputs": [],
   "source": []
  }
 ],
 "metadata": {
  "kernelspec": {
   "display_name": "Python 3",
   "language": "python",
   "name": "python3"
  },
  "language_info": {
   "codemirror_mode": {
    "name": "ipython",
    "version": 3
   },
   "file_extension": ".py",
   "mimetype": "text/x-python",
   "name": "python",
   "nbconvert_exporter": "python",
   "pygments_lexer": "ipython3",
   "version": "3.7.1"
  }
 },
 "nbformat": 4,
 "nbformat_minor": 4
}
