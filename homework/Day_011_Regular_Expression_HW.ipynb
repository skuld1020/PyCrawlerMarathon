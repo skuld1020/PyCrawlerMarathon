{
 "cells": [
  {
   "cell_type": "markdown",
   "metadata": {},
   "source": [
    "### 正規表達式練習\n",
    "\n",
    "在網路爬蟲當中，正規表達式常常用來過濾以及搜尋特定的 pattern 字串。\n",
    "今天我們來練習過濾 IP address，以及 URL。"
   ]
  },
  {
   "cell_type": "markdown",
   "metadata": {},
   "source": [
    "### pdf範例測試"
   ]
  },
  {
   "cell_type": "code",
   "execution_count": 11,
   "metadata": {},
   "outputs": [
    {
     "name": "stdout",
     "output_type": "stream",
     "text": [
      "<re.Match object; span=(0, 11), match='abcde 12345'> <re.Match object; span=(0, 11), match='abcde 12345'> ['', ''] ['abcde 12345'] +\n",
      "<re.Match object; span=(0, 11), match='abcde 12345'> <re.Match object; span=(0, 11), match='abcde 12345'> ['', ''] ['abcde 12345'] +\n"
     ]
    }
   ],
   "source": [
    "import re\n",
    "regex = 'abcde\\s\\d+'\n",
    "pat = re.compile(regex)\n",
    "\n",
    "test_str = 'abcde 12345'\n",
    "\n",
    "A = re.match(pat,test_str)\n",
    "B = re.search(pat,test_str)\n",
    "C = re.split(pat,test_str)\n",
    "D = re.findall(pat,test_str)\n",
    "E = re.sub(pat,'+',test_str)\n",
    "\n",
    "a = pat.match(test_str)\n",
    "b = pat.search(test_str)\n",
    "c= pat.split(test_str)\n",
    "d = pat.findall(test_str)\n",
    "e = pat.sub('+',test_str)\n",
    "\n",
    "print(A,B,C,D,E)\n",
    "print(a,b,c,d,e)\n",
    "\n"
   ]
  },
  {
   "cell_type": "code",
   "execution_count": 48,
   "metadata": {},
   "outputs": [],
   "source": [
    "import re\n",
    "\n",
    "#定義一個檢驗正規表示式的函數\n",
    "def regmatchtest(reg,testdata):\n",
    "    pattern = re.compile(reg)\n",
    "    # pattern = re.compile(reg, flags=re.IGNORECASE)  #若要忽略大小寫，在編譯時加上flags=re.IGNORECASE\n",
    "    result = re.search(pattern,testdata)\n",
    "    \n",
    "    if result:\n",
    "        print('Mctched:{}'.format(result.group()))\n",
    "        \n",
    "        if result is not None:\n",
    "        # group(0)代表整個字串，group(1)、group(2)...代表分組中，匹配的內容\n",
    "        # result.groups()為一個tuple，裡面放著匹配的元素(分別為group(1),group(2)...group(0)為整串不列在內)\n",
    "            for i in range(0,len(result.groups())+1):\n",
    "                print('group({}):{}'.format(i,result.group(i)))\n",
    "    else:\n",
    "        print('Not Matched')\n",
    "    "
   ]
  },
  {
   "cell_type": "markdown",
   "metadata": {},
   "source": [
    "### 用正規表達式過濾IP address。\n",
    "一個合法的網路IP address，其格式為：X.X.X.X, 其中X是0~255的數字。我們可以用一個regex，來表達IP address的內容。"
   ]
  },
  {
   "cell_type": "code",
   "execution_count": 49,
   "metadata": {},
   "outputs": [
    {
     "name": "stdout",
     "output_type": "stream",
     "text": [
      "Mctched:216.58.200.227\n",
      "group(0):216.58.200.227\n",
      "group(1):216\n",
      "group(2):58\n",
      "group(3):200\n",
      "group(4):227\n"
     ]
    }
   ],
   "source": [
    "testdata = \"Google IP address is 216.58.200.227\"\n",
    "reg = '(\\d+)\\.(\\d+)\\.(\\d+)\\.(\\d+)'\n",
    "\n",
    "regmatchtest(reg,testdata)"
   ]
  },
  {
   "cell_type": "markdown",
   "metadata": {},
   "source": [
    "### 以上是最簡單的regex寫法。但深入思考，上面的regex也能夠匹配444.555.666.777這種無效的IP address。\n",
    "我們必須再雕琢regex，只接受[0-255].[0-255].[0-255].[0-255]這種合法的IP address，而過濾不合法的IP"
   ]
  },
  {
   "cell_type": "code",
   "execution_count": 60,
   "metadata": {},
   "outputs": [
    {
     "name": "stdout",
     "output_type": "stream",
     "text": [
      "216.58.200.227\n",
      "Mctched:216.58.200.227\n",
      "group(0):216.58.200.227\n",
      "group(1):216\n",
      "group(2):58\n",
      "group(3):200\n",
      "group(4):227\n",
      "Not Matched\n"
     ]
    }
   ],
   "source": [
    "#定義一個IP檢驗函數\n",
    "def IPtest(regex,test_string):\n",
    "    pattern = re.compile(regex)\n",
    "    result = re.search(pattern,test_string)\n",
    "    \n",
    "    if 0<int(result.group(1))<255:\n",
    "        if 0<int(result.group(2))<255:\n",
    "            if 0<int(result.group(3))<255:\n",
    "                if 0<int(result.group(4))<255:\n",
    "                    print(result.group(0))\n",
    "    \n",
    "    \n",
    "\n",
    "regex = '(\\d{1,3}).(\\d{1,3}).(\\d{1,3}).(\\d{1,3})'\n",
    "\n",
    "test_string1 = \"Test IP 216.58.200.227\"\n",
    "IPtest(regex, test_string1)  #測試表達式是否會匹配此合法IP\n",
    "\n",
    "test_string2 = \"Test IP 999.888.777.666\"\n",
    "IPtest(regex, test_string2)  #測試表達式是否會匹配此不合法IP\n",
    "\n",
    "#用正規\n",
    "reg = '(25[0-5]|2[0-4]\\d|[01]?\\d?\\d)\\.(25[0-5]|2[0-4]\\d|[01]?\\d?\\d)\\.(25[0-5]|2[0-4]\\d|[01]?\\d?\\d)\\.(25[0-5]|2[0-4]\\d|[01]?\\d?\\d)'\n",
    "\n",
    "test_string1 = \"Test IP 216.58.200.227\"\n",
    "regmatchtest(reg,test_string1)  #測試表達式是否會匹配此合法IP\n",
    "\n",
    "test_string2 = \"Test IP 999.888.777.666\"\n",
    "regmatchtest(reg,test_string2)  #測試表達式是否會匹配此不合法IP\n"
   ]
  },
  {
   "cell_type": "markdown",
   "metadata": {},
   "source": [
    "### 用正規表達式過濾URL。\n",
    "在網頁爬蟲中，常常會有外部連結的A tag，例如：\n",
    "< a href=\"https://movies.yahoo.com.tw/movietime_result.html/id=9467\"> 時刻表 < /a >\n",
    "\n",
    "我們要把\"href=\"之後的URL擷取出來，用來做後續處理。"
   ]
  },
  {
   "cell_type": "code",
   "execution_count": 56,
   "metadata": {},
   "outputs": [
    {
     "name": "stdout",
     "output_type": "stream",
     "text": [
      "Mctched:https://movies.yahoo.com.tw/movietime_result.html/id=9467\n",
      "group(0):https://movies.yahoo.com.tw/movietime_result.html/id=9467\n",
      "group(1):https://movies.yahoo.com.tw/movietime_result.html/id=9467\n"
     ]
    }
   ],
   "source": [
    "html_a_tag = \"<a href=https://movies.yahoo.com.tw/movietime_result.html/id=9467> 時刻表 </a>\"\n",
    "\n",
    "regex = '(https:.+\\d)'\n",
    "regmatchtest(regex, html_a_tag)"
   ]
  },
  {
   "cell_type": "code",
   "execution_count": 63,
   "metadata": {},
   "outputs": [
    {
     "name": "stdout",
     "output_type": "stream",
     "text": [
      "Mctched:https://movies.yahoo.com.tw/movietime_result.html/id=9467\n",
      "group(0):https://movies.yahoo.com.tw/movietime_result.html/id=9467\n",
      "group(1):https://\n",
      "group(2):https\n"
     ]
    }
   ],
   "source": [
    "html_a_tag = \"<a href=https://movies.yahoo.com.tw/movietime_result.html/id=9467> 時刻表 </a>\"\n",
    "\n",
    "regex = '((https|http):\\/\\/)\\w+\\.[-a-z0-9_:@&?=+,.!\\/~*\\'%$]*'\n",
    "regmatchtest(regex, html_a_tag)"
   ]
  },
  {
   "cell_type": "code",
   "execution_count": null,
   "metadata": {},
   "outputs": [],
   "source": []
  }
 ],
 "metadata": {
  "kernelspec": {
   "display_name": "Python 3",
   "language": "python",
   "name": "python3"
  },
  "language_info": {
   "codemirror_mode": {
    "name": "ipython",
    "version": 3
   },
   "file_extension": ".py",
   "mimetype": "text/x-python",
   "name": "python",
   "nbconvert_exporter": "python",
   "pygments_lexer": "ipython3",
   "version": "3.7.1"
  }
 },
 "nbformat": 4,
 "nbformat_minor": 4
}
