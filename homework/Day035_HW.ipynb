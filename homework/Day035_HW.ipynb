{
 "cells": [
  {
   "cell_type": "markdown",
   "metadata": {},
   "source": [
    "簡單檢驗多線程運行時間"
   ]
  },
  {
   "cell_type": "code",
   "execution_count": 18,
   "metadata": {},
   "outputs": [
    {
     "name": "stdout",
     "output_type": "stream",
     "text": [
      "T1 start\n",
      "T2 start\n",
      "T3 start\n",
      "T1 finish\n",
      "T1 use 2.004115 secends\n",
      "T2 finish\n",
      "T2 use 2.003115 secends\n",
      "T3 finish\n",
      "T3 use 2.003114 secends\n",
      "total use 2.012115 secends\n"
     ]
    }
   ],
   "source": [
    "import time\n",
    "import threading\n",
    "\n",
    "def use_time(name):\n",
    "    starttime=time.time()\n",
    "    print('%s start' %(name))\n",
    "    time.sleep(2)\n",
    "    print('%s finish' %(name))\n",
    "    finishtime = time.time()\n",
    "    print('%s use %f secends' %(name,finishtime-starttime))\n",
    "\n",
    "T1 = threading.Thread(target=use_time,args=('T1',))\n",
    "T2 = threading.Thread(target=use_time,args=('T2',))\n",
    "T3 = threading.Thread(target=use_time,args=('T3',))\n",
    "\n",
    "starttime = time.time()\n",
    "T1.start()\n",
    "T2.start()\n",
    "T3.start()\n",
    "T1.join()\n",
    "T2.join()\n",
    "T3.join()\n",
    "finishtime = time.time()\n",
    "print('total use %f secends' %(finishtime-starttime))"
   ]
  },
  {
   "cell_type": "code",
   "execution_count": 19,
   "metadata": {},
   "outputs": [
    {
     "name": "stdout",
     "output_type": "stream",
     "text": [
      "T1 start\n",
      "T1 finish\n",
      "T1 use 2.005115 secends\n",
      "T2 start\n",
      "T3 start\n",
      "T2 finish\n",
      "T2 use 2.006115 secends\n",
      "T3 finish\n",
      "T3 use 2.005115 secends\n",
      "total use 4.018230 secends\n"
     ]
    }
   ],
   "source": [
    "import time\n",
    "import threading\n",
    "\n",
    "def use_time(name):\n",
    "    starttime=time.time()\n",
    "    print('%s start' %(name))\n",
    "    time.sleep(2)\n",
    "    print('%s finish' %(name))\n",
    "    finishtime = time.time()\n",
    "    print('%s use %f secends' %(name,finishtime-starttime))\n",
    "\n",
    "T1 = threading.Thread(target=use_time,args=('T1',))\n",
    "T2 = threading.Thread(target=use_time,args=('T2',))\n",
    "T3 = threading.Thread(target=use_time,args=('T3',))\n",
    "\n",
    "starttime = time.time()\n",
    "T1.start()\n",
    "T1.join()\n",
    "T2.start()\n",
    "T3.start()\n",
    "T2.join()\n",
    "T3.join()\n",
    "finishtime = time.time()\n",
    "print('total use %f secends' %(finishtime-starttime))"
   ]
  },
  {
   "cell_type": "markdown",
   "metadata": {},
   "source": [
    "### 找一個之前實作過的爬蟲改用多線程改寫，比較前後時間的差異。"
   ]
  },
  {
   "cell_type": "code",
   "execution_count": 10,
   "metadata": {},
   "outputs": [
    {
     "name": "stdout",
     "output_type": "stream",
     "text": [
      "totally use 2.914167 seconds\n"
     ]
    }
   ],
   "source": [
    "#未使用多線程\n",
    "import time\n",
    "import requests\n",
    "\n",
    "url01 = 'https://www.python.org/'\n",
    "url02 = 'https://www.cupoy.com/home'\n",
    "url03 = 'https://www.postcrossing.com/'\n",
    "url04 = 'https://www.codewars.com/'\n",
    "\n",
    "url_list = [url01,url02,url03,url04]\n",
    "\n",
    "starttime01 =time.time()\n",
    "for url in url_list:\n",
    "    res = requests.get(url)\n",
    "finishtime01 = time.time()\n",
    "print('totally use %f seconds' %(finishtime01-starttime01))"
   ]
  },
  {
   "cell_type": "code",
   "execution_count": 15,
   "metadata": {},
   "outputs": [
    {
     "name": "stdout",
     "output_type": "stream",
     "text": [
      "totally use 0.011001 seconds\n",
      "https://www.python.org/ done.\n",
      "https://www.cupoy.com/home done.\n",
      "https://www.codewars.com/ done.\n",
      "https://www.postcrossing.com/ done.\n"
     ]
    }
   ],
   "source": [
    "#使用多線程\n",
    "import threading\n",
    "import time\n",
    "import requests\n",
    "\n",
    "url01 = 'https://www.python.org/'\n",
    "url02 = 'https://www.cupoy.com/home'\n",
    "url03 = 'https://www.postcrossing.com/'\n",
    "url04 = 'https://www.codewars.com/'\n",
    "\n",
    "url_list = [url01,url02,url03,url04]\n",
    "\n",
    "def get_html(url):\n",
    "    res = requests.get(url)\n",
    "    print('%s done.' %(url))\n",
    "\n",
    "threading_list = list()\n",
    "for url in url_list:\n",
    "    threading_list.append(threading.Thread(target=get_html,args=(url,)))\n",
    "    \n",
    "starttime02 =time.time()\n",
    "for threading in threading_list:\n",
    "    threading.start()\n",
    "    \n",
    "#for threading in threading_list:\n",
    "#    threading.join()\n",
    "    \n",
    "finishtime02 = time.time()\n",
    "print('totally use %f seconds' %(finishtime02-starttime02))"
   ]
  },
  {
   "cell_type": "code",
   "execution_count": 16,
   "metadata": {},
   "outputs": [
    {
     "name": "stdout",
     "output_type": "stream",
     "text": [
      "https://www.python.org/ done.\n",
      "https://www.cupoy.com/home done.\n",
      "https://www.codewars.com/ done.\n",
      "https://www.postcrossing.com/ done.\n",
      "totally use 1.502086 seconds\n"
     ]
    }
   ],
   "source": [
    "#使用多線程\n",
    "import threading\n",
    "import time\n",
    "import requests\n",
    "\n",
    "url01 = 'https://www.python.org/'\n",
    "url02 = 'https://www.cupoy.com/home'\n",
    "url03 = 'https://www.postcrossing.com/'\n",
    "url04 = 'https://www.codewars.com/'\n",
    "\n",
    "url_list = [url01,url02,url03,url04]\n",
    "\n",
    "def get_html(url):\n",
    "    res = requests.get(url)\n",
    "    print('%s done.' %(url))\n",
    "\n",
    "threading_list = list()\n",
    "for url in url_list:\n",
    "    threading_list.append(threading.Thread(target=get_html,args=(url,)))\n",
    "    \n",
    "starttime02 =time.time()\n",
    "for threading in threading_list:\n",
    "    threading.start()\n",
    "    \n",
    "for threading in threading_list:\n",
    "    threading.join()\n",
    "    \n",
    "finishtime02 = time.time()\n",
    "print('totally use %f seconds' %(finishtime02-starttime02))"
   ]
  },
  {
   "cell_type": "code",
   "execution_count": null,
   "metadata": {},
   "outputs": [],
   "source": []
  }
 ],
 "metadata": {
  "kernelspec": {
   "display_name": "Python 3",
   "language": "python",
   "name": "python3"
  },
  "language_info": {
   "codemirror_mode": {
    "name": "ipython",
    "version": 3
   },
   "file_extension": ".py",
   "mimetype": "text/x-python",
   "name": "python",
   "nbconvert_exporter": "python",
   "pygments_lexer": "ipython3",
   "version": "3.7.1"
  }
 },
 "nbformat": 4,
 "nbformat_minor": 4
}
