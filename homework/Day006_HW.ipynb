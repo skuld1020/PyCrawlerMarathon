{
 "cells": [
  {
   "cell_type": "markdown",
   "metadata": {},
   "source": [
    "### 根據範例提供的 API 網址 ，完成以下問題：\n",
    "\n",
    "https://www.zhihu.com/api/v4/questions/55493026/answers\n",
    "\n",
    "* 1. 取出知乎問題發問時間\n",
    "\n",
    "* 2. 取出第一筆與最後一筆回答的時間"
   ]
  },
  {
   "cell_type": "code",
   "execution_count": 56,
   "metadata": {
    "scrolled": false
   },
   "outputs": [
    {
     "name": "stdout",
     "output_type": "stream",
     "text": [
      "發問時間： 2017-02-06 22:10:29\n"
     ]
    }
   ],
   "source": [
    "import requests\n",
    "import json\n",
    "import time\n",
    "\n",
    "headers = {'user-agent':'Mozilla/5.0 (Linux; Android 6.0; Nexus 5 Build/MRA58N) \\\n",
    "            AppleWebKit/537.36 (KHTML, like Gecko) Chrome/83.0.4103.106 Mobile Safari/537.36'}\n",
    "\n",
    "r = requests.get('https://www.zhihu.com/api/v4/questions/55493026/answers',headers = headers)\n",
    "response = r.text\n",
    "\n",
    "d = json.loads(response)\n",
    "\n",
    "#發問時間\n",
    "\n",
    "a = d['data'][0]['question']['created']\n",
    "print('發問時間：',time.strftime('%Y-%m-%d %H:%M:%S',time.localtime(a)))\n",
    "\n"
   ]
  },
  {
   "cell_type": "code",
   "execution_count": 48,
   "metadata": {},
   "outputs": [
    {
     "name": "stdout",
     "output_type": "stream",
     "text": [
      "第一筆回答時間； 2017-05-02 10:45:13\n",
      "最後一筆回答時間； 2020-03-26 21:04:14\n"
     ]
    }
   ],
   "source": [
    "import requests\n",
    "import json\n",
    "import time\n",
    "\n",
    "headers = {'user-agent':'Mozilla/5.0 (Linux; Android 6.0; Nexus 5 Build/MRA58N) \\\n",
    "            AppleWebKit/537.36 (KHTML, like Gecko) Chrome/83.0.4103.106 Mobile Safari/537.36'}\n",
    "\n",
    "r = requests.get('https://www.zhihu.com/api/v4/questions/55493026/answers',headers = headers)\n",
    "response = r.text\n",
    "\n",
    "d = json.loads(response)\n",
    "\n",
    "#回覆時間\n",
    "t = list()\n",
    "for i in d['data']:\n",
    "    s = i['created_time']\n",
    "    t.append(s)\n",
    "    \n",
    "t = sorted(t)\n",
    "f = t[0]\n",
    "l = t[len(t)-1]\n",
    "print('第一筆回答時間；',time.strftime('%Y-%m-%d %H:%M:%S',time.localtime(f)))\n",
    "print('最後一筆回答時間；',time.strftime('%Y-%m-%d %H:%M:%S',time.localtime(l)))"
   ]
  },
  {
   "cell_type": "markdown",
   "metadata": {},
   "source": [
    "筆記：\n",
    "因為知乎的排序不是用時間順序，在使用API時可以默認以時間作為排序\n",
    "https://www.zhihu.com/api/v4/questions/55493026/answers?sort_by=created "
   ]
  },
  {
   "cell_type": "code",
   "execution_count": 57,
   "metadata": {},
   "outputs": [
    {
     "name": "stdout",
     "output_type": "stream",
     "text": [
      "2020-06-18 18:21:38\n",
      "2020-06-18 10:41:23\n",
      "2020-06-12 11:35:58\n",
      "2020-06-10 21:54:52\n",
      "2020-06-03 23:08:22\n"
     ]
    }
   ],
   "source": [
    "import requests\n",
    "import json\n",
    "import time\n",
    "\n",
    "headers = {'user-agent':'Mozilla/5.0 (Linux; Android 6.0; Nexus 5 Build/MRA58N) \\\n",
    "            AppleWebKit/537.36 (KHTML, like Gecko) Chrome/83.0.4103.106 Mobile Safari/537.36'}\n",
    "\n",
    "r = requests.get('https://www.zhihu.com/api/v4/questions/55493026/answers?sort_by=created',headers = headers)\n",
    "response = r.text\n",
    "\n",
    "d = json.loads(response)\n",
    "\n",
    "#回覆時間\n",
    "\n",
    "for i in d['data']:\n",
    "    s = i['created_time']\n",
    "    print(time.strftime('%Y-%m-%d %H:%M:%S',time.localtime(s)))"
   ]
  },
  {
   "cell_type": "code",
   "execution_count": null,
   "metadata": {},
   "outputs": [],
   "source": []
  }
 ],
 "metadata": {
  "kernelspec": {
   "display_name": "Python 3",
   "language": "python",
   "name": "python3"
  },
  "language_info": {
   "codemirror_mode": {
    "name": "ipython",
    "version": 3
   },
   "file_extension": ".py",
   "mimetype": "text/x-python",
   "name": "python",
   "nbconvert_exporter": "python",
   "pygments_lexer": "ipython3",
   "version": "3.7.1"
  }
 },
 "nbformat": 4,
 "nbformat_minor": 4
}
